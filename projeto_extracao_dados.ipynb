{
 "cells": [
  {
   "cell_type": "markdown",
   "metadata": {
    "application/vnd.databricks.v1+cell": {
     "cellMetadata": {},
     "inputWidgets": {},
     "nuid": "e4764eca-6daf-4519-9318-69a6e3708b01",
     "showTitle": false,
     "title": ""
    }
   },
   "source": [
    "# Projeto de Extração de Dados a partir das API's do IPEA e IBGE\n",
    "\n",
    "## Objetivo\n",
    "Realização de um ETL - Extract, Transform, Load. que consiste em:\n",
    "  * Extract: Reunir os dados das API's.\n",
    "  * Transform: Fazer as conversões e limpeza.\n",
    "  * Load: Salvar os Dados consolidados em um banco de dados, ou warehouse para que possam ser consultados e analisados.\n",
    "\n",
    "### Alvo:\n",
    "Catalogar a série histórica de feminicídios no Brasil.\n",
    "\n",
    "Fontes: \n",
    "* [IPEA - Instituto de Pesquisa Econômica Aplicada](http://www.ipeadata.gov.br)\n",
    "* [IBGE - Instituto Brasileiro de Geografia e Estatística](https://www.ibge.gov.br/)"
   ]
  },
  {
   "cell_type": "markdown",
   "metadata": {
    "application/vnd.databricks.v1+cell": {
     "cellMetadata": {},
     "inputWidgets": {},
     "nuid": "66807b30-d7f8-4156-a5df-e65a7903f992",
     "showTitle": false,
     "title": ""
    }
   },
   "source": [
    "## Sobre as API's\n",
    "### IPEA\n",
    "O site do IPEA disponibiliza uma biblioteca Python que ajuda nas requisições da API, e possui um repositório no [GitHub](https://github.com/luanborelli/ipeadatapy/) com sua documentação. É através dela que extraímos os dados sobre feminicídio.\n",
    "\n",
    "### IBGE\n",
    "O IBGE também disponibiliza uma [API](https://servicodados.ibge.gov.br/api/docs/localidades) para consultas de código de região onde utilizamos para melhor idêntificação dos territórios, já que a API do IPEA identifica apenas por código de território. \n"
   ]
  },
  {
   "cell_type": "markdown",
   "metadata": {
    "application/vnd.databricks.v1+cell": {
     "cellMetadata": {},
     "inputWidgets": {},
     "nuid": "8f835b22-a943-4a6a-a79f-4d5b8a92a687",
     "showTitle": false,
     "title": ""
    }
   },
   "source": [
    "## EXTRACT\n"
   ]
  },
  {
   "cell_type": "code",
   "execution_count": 0,
   "metadata": {
    "application/vnd.databricks.v1+cell": {
     "cellMetadata": {
      "byteLimit": 2048000,
      "rowLimit": 10000
     },
     "inputWidgets": {},
     "nuid": "20d9d411-1567-43a0-8e5a-4b2b9395dc5c",
     "showTitle": false,
     "title": ""
    }
   },
   "outputs": [
    {
     "output_type": "stream",
     "name": "stdout",
     "output_type": "stream",
     "text": [
      "Collecting ipeadatapy\r\n  Downloading ipeadatapy-0.1.9-py3-none-any.whl (10 kB)\r\nRequirement already satisfied: pandas in /databricks/python3/lib/python3.9/site-packages (from ipeadatapy) (1.4.2)\r\nRequirement already satisfied: requests in /databricks/python3/lib/python3.9/site-packages (from ipeadatapy) (2.27.1)\r\nRequirement already satisfied: python-dateutil>=2.8.1 in /databricks/python3/lib/python3.9/site-packages (from pandas->ipeadatapy) (2.8.2)\r\nRequirement already satisfied: numpy>=1.18.5 in /databricks/python3/lib/python3.9/site-packages (from pandas->ipeadatapy) (1.21.5)\r\nRequirement already satisfied: pytz>=2020.1 in /databricks/python3/lib/python3.9/site-packages (from pandas->ipeadatapy) (2021.3)\r\nRequirement already satisfied: six>=1.5 in /databricks/python3/lib/python3.9/site-packages (from python-dateutil>=2.8.1->pandas->ipeadatapy) (1.16.0)\r\nRequirement already satisfied: charset-normalizer~=2.0.0 in /databricks/python3/lib/python3.9/site-packages (from requests->ipeadatapy) (2.0.4)\r\nRequirement already satisfied: idna<4,>=2.5 in /databricks/python3/lib/python3.9/site-packages (from requests->ipeadatapy) (3.3)\r\nRequirement already satisfied: certifi>=2017.4.17 in /databricks/python3/lib/python3.9/site-packages (from requests->ipeadatapy) (2021.10.8)\r\nRequirement already satisfied: urllib3<1.27,>=1.21.1 in /databricks/python3/lib/python3.9/site-packages (from requests->ipeadatapy) (1.26.9)\r\nInstalling collected packages: ipeadatapy\r\nSuccessfully installed ipeadatapy-0.1.9\r\n\u001B[33mWARNING: You are using pip version 21.2.4; however, version 24.2 is available.\r\nYou should consider upgrading via the '/local_disk0/.ephemeral_nfs/envs/pythonEnv-e9f9ba56-19a7-4936-9a0d-e26575a3f7c0/bin/python -m pip install --upgrade pip' command.\u001B[0m\r\n"
     ]
    }
   ],
   "source": [
    "#Instalação da biblioteca disponibilizada pelo site do IPEA.\n",
    "!pip install ipeadatapy\n"
   ]
  },
  {
   "cell_type": "code",
   "execution_count": 0,
   "metadata": {
    "application/vnd.databricks.v1+cell": {
     "cellMetadata": {
      "byteLimit": 2048000,
      "rowLimit": 10000
     },
     "inputWidgets": {},
     "nuid": "f69cfafe-52e9-4362-b41c-4eda166fe310",
     "showTitle": false,
     "title": ""
    }
   },
   "outputs": [
    {
     "output_type": "stream",
     "name": "stdout",
     "output_type": "stream",
     "text": [
      "Out[1]: <Response [200]>"
     ]
    }
   ],
   "source": [
    "# Fazendo a requisição na API\n",
    "import requests \n",
    "\n",
    "url = 'http://www.ipeadata.gov.br/api/odata4/'\n",
    "\n",
    "response = requests.get(url)\n",
    "response"
   ]
  },
  {
   "cell_type": "code",
   "execution_count": 0,
   "metadata": {
    "application/vnd.databricks.v1+cell": {
     "cellMetadata": {
      "byteLimit": 2048000,
      "rowLimit": 10000
     },
     "inputWidgets": {},
     "nuid": "7205d658-fb4d-41ea-ab49-14544d1efb74",
     "showTitle": false,
     "title": ""
    }
   },
   "outputs": [
    {
     "output_type": "stream",
     "name": "stdout",
     "output_type": "stream",
     "text": [
      "Out[2]: {'@odata.context': 'http://ipeadata.gov.br/api/odata4/$metadata',\n 'value': [{'name': 'Paises', 'kind': 'EntitySet', 'url': 'Paises'},\n  {'name': 'Metadados', 'kind': 'EntitySet', 'url': 'Metadados'},\n  {'name': 'Temas', 'kind': 'EntitySet', 'url': 'Temas'},\n  {'name': 'Territorios', 'kind': 'EntitySet', 'url': 'Territorios'},\n  {'name': 'Valores', 'kind': 'EntitySet', 'url': 'Valores'},\n  {'name': 'ValoresStr', 'kind': 'EntitySet', 'url': 'ValoresStr'}]}"
     ]
    }
   ],
   "source": [
    "# Verificando o retorno\n",
    "response.json()"
   ]
  },
  {
   "cell_type": "markdown",
   "metadata": {
    "application/vnd.databricks.v1+cell": {
     "cellMetadata": {},
     "inputWidgets": {},
     "nuid": "f2810f9d-1c16-4271-ba3f-7ad5f5445234",
     "showTitle": false,
     "title": ""
    }
   },
   "source": [
    "### Utilizando o  Ipea Data"
   ]
  },
  {
   "cell_type": "code",
   "execution_count": 0,
   "metadata": {
    "application/vnd.databricks.v1+cell": {
     "cellMetadata": {
      "byteLimit": 2048000,
      "rowLimit": 10000
     },
     "inputWidgets": {},
     "nuid": "bebc5ebf-2182-4510-a37c-39e65cd73447",
     "showTitle": false,
     "title": ""
    }
   },
   "outputs": [
    {
     "output_type": "display_data",
     "data": {
      "text/html": [
       "<div>\n",
       "<style scoped>\n",
       "    .dataframe tbody tr th:only-of-type {\n",
       "        vertical-align: middle;\n",
       "    }\n",
       "\n",
       "    .dataframe tbody tr th {\n",
       "        vertical-align: top;\n",
       "    }\n",
       "\n",
       "    .dataframe thead th {\n",
       "        text-align: right;\n",
       "    }\n",
       "</style>\n",
       "<table border=\"1\" class=\"dataframe\">\n",
       "  <thead>\n",
       "    <tr style=\"text-align: right;\">\n",
       "      <th></th>\n",
       "      <th>CODE</th>\n",
       "      <th>NAME</th>\n",
       "    </tr>\n",
       "  </thead>\n",
       "  <tbody>\n",
       "    <tr>\n",
       "      <th>0</th>\n",
       "      <td>ABATE_ABPEAV</td>\n",
       "      <td>Abate - aves - peso das carcaças</td>\n",
       "    </tr>\n",
       "    <tr>\n",
       "      <th>1</th>\n",
       "      <td>ABATE_ABQUBV</td>\n",
       "      <td>Abate - bovinos - quantidade</td>\n",
       "    </tr>\n",
       "    <tr>\n",
       "      <th>2</th>\n",
       "      <td>ABATE12_ABQUBO12</td>\n",
       "      <td>Abate - bois - quantidade</td>\n",
       "    </tr>\n",
       "    <tr>\n",
       "      <th>3</th>\n",
       "      <td>ABATE12_ABQUBV12</td>\n",
       "      <td>Abate - bovinos - quantidade</td>\n",
       "    </tr>\n",
       "    <tr>\n",
       "      <th>4</th>\n",
       "      <td>ABATE12_ABQUFR12</td>\n",
       "      <td>Abate - frangos - quantidade</td>\n",
       "    </tr>\n",
       "    <tr>\n",
       "      <th>...</th>\n",
       "      <td>...</td>\n",
       "      <td>...</td>\n",
       "    </tr>\n",
       "    <tr>\n",
       "      <th>3492</th>\n",
       "      <td>PNADCT_TXPARTCUF_SI</td>\n",
       "      <td>Taxa de participação - sem instrução ou equiva...</td>\n",
       "    </tr>\n",
       "    <tr>\n",
       "      <th>3493</th>\n",
       "      <td>PNAD_IAGRV</td>\n",
       "      <td>Domicílios com insegurança alimentar grave</td>\n",
       "    </tr>\n",
       "    <tr>\n",
       "      <th>3494</th>\n",
       "      <td>PNAD_IALEV</td>\n",
       "      <td>Domicílios com insegurança alimentar leve</td>\n",
       "    </tr>\n",
       "    <tr>\n",
       "      <th>3495</th>\n",
       "      <td>PNAD_IAMOD</td>\n",
       "      <td>Domicílios com insegurança alimentar moderada</td>\n",
       "    </tr>\n",
       "    <tr>\n",
       "      <th>3496</th>\n",
       "      <td>PNAD_SATOT</td>\n",
       "      <td>Domicílios com segurança alimentar</td>\n",
       "    </tr>\n",
       "  </tbody>\n",
       "</table>\n",
       "<p>3497 rows × 2 columns</p>\n",
       "</div>"
      ]
     },
     "metadata": {
      "application/vnd.databricks.v1+output": {
       "addedWidgets": {},
       "arguments": {},
       "data": "<div>\n<style scoped>\n    .dataframe tbody tr th:only-of-type {\n        vertical-align: middle;\n    }\n\n    .dataframe tbody tr th {\n        vertical-align: top;\n    }\n\n    .dataframe thead th {\n        text-align: right;\n    }\n</style>\n<table border=\"1\" class=\"dataframe\">\n  <thead>\n    <tr style=\"text-align: right;\">\n      <th></th>\n      <th>CODE</th>\n      <th>NAME</th>\n    </tr>\n  </thead>\n  <tbody>\n    <tr>\n      <th>0</th>\n      <td>ABATE_ABPEAV</td>\n      <td>Abate - aves - peso das carcaças</td>\n    </tr>\n    <tr>\n      <th>1</th>\n      <td>ABATE_ABQUBV</td>\n      <td>Abate - bovinos - quantidade</td>\n    </tr>\n    <tr>\n      <th>2</th>\n      <td>ABATE12_ABQUBO12</td>\n      <td>Abate - bois - quantidade</td>\n    </tr>\n    <tr>\n      <th>3</th>\n      <td>ABATE12_ABQUBV12</td>\n      <td>Abate - bovinos - quantidade</td>\n    </tr>\n    <tr>\n      <th>4</th>\n      <td>ABATE12_ABQUFR12</td>\n      <td>Abate - frangos - quantidade</td>\n    </tr>\n    <tr>\n      <th>...</th>\n      <td>...</td>\n      <td>...</td>\n    </tr>\n    <tr>\n      <th>3492</th>\n      <td>PNADCT_TXPARTCUF_SI</td>\n      <td>Taxa de participação - sem instrução ou equiva...</td>\n    </tr>\n    <tr>\n      <th>3493</th>\n      <td>PNAD_IAGRV</td>\n      <td>Domicílios com insegurança alimentar grave</td>\n    </tr>\n    <tr>\n      <th>3494</th>\n      <td>PNAD_IALEV</td>\n      <td>Domicílios com insegurança alimentar leve</td>\n    </tr>\n    <tr>\n      <th>3495</th>\n      <td>PNAD_IAMOD</td>\n      <td>Domicílios com insegurança alimentar moderada</td>\n    </tr>\n    <tr>\n      <th>3496</th>\n      <td>PNAD_SATOT</td>\n      <td>Domicílios com segurança alimentar</td>\n    </tr>\n  </tbody>\n</table>\n<p>3497 rows × 2 columns</p>\n</div>",
       "datasetInfos": [],
       "metadata": {},
       "removedWidgets": [],
       "textData": null,
       "type": "htmlSandbox"
      }
     },
     "output_type": "display_data"
    }
   ],
   "source": [
    "# Importando a biblioteca e listando as séries disponíveis\n",
    "import ipeadatapy as ipea\n",
    "\n",
    "series = ipea.list_series()\n",
    "series"
   ]
  },
  {
   "cell_type": "markdown",
   "metadata": {
    "application/vnd.databricks.v1+cell": {
     "cellMetadata": {},
     "inputWidgets": {},
     "nuid": "b2b53d36-a4f8-489d-9db0-738e1408ddf5",
     "showTitle": false,
     "title": ""
    }
   },
   "source": [
    "### Fazendo a busca na série através do tema escolhido "
   ]
  },
  {
   "cell_type": "code",
   "execution_count": 0,
   "metadata": {
    "application/vnd.databricks.v1+cell": {
     "cellMetadata": {
      "byteLimit": 2048000,
      "rowLimit": 10000
     },
     "inputWidgets": {},
     "nuid": "28925590-2040-491e-9cbe-dc0b4827c86f",
     "showTitle": false,
     "title": ""
    }
   },
   "outputs": [
    {
     "output_type": "display_data",
     "data": {
      "text/html": [
       "<div>\n",
       "<style scoped>\n",
       "    .dataframe tbody tr th:only-of-type {\n",
       "        vertical-align: middle;\n",
       "    }\n",
       "\n",
       "    .dataframe tbody tr th {\n",
       "        vertical-align: top;\n",
       "    }\n",
       "\n",
       "    .dataframe thead th {\n",
       "        text-align: right;\n",
       "    }\n",
       "</style>\n",
       "<table border=\"1\" class=\"dataframe\">\n",
       "  <thead>\n",
       "    <tr style=\"text-align: right;\">\n",
       "      <th></th>\n",
       "      <th>CODE</th>\n",
       "      <th>NAME</th>\n",
       "    </tr>\n",
       "  </thead>\n",
       "  <tbody>\n",
       "    <tr>\n",
       "      <th>1358</th>\n",
       "      <td>HOMIC</td>\n",
       "      <td>Número de homicídios</td>\n",
       "    </tr>\n",
       "    <tr>\n",
       "      <th>1359</th>\n",
       "      <td>HOMICF</td>\n",
       "      <td>Número de homicídios do sexo feminino</td>\n",
       "    </tr>\n",
       "    <tr>\n",
       "      <th>1360</th>\n",
       "      <td>HOMICFJ</td>\n",
       "      <td>Número de homicídios de jovens de 15 a 29 anos...</td>\n",
       "    </tr>\n",
       "    <tr>\n",
       "      <th>1361</th>\n",
       "      <td>HOMICJ</td>\n",
       "      <td>Número de homicídios de jovens de 15 a 29 anos</td>\n",
       "    </tr>\n",
       "    <tr>\n",
       "      <th>1362</th>\n",
       "      <td>HOMICM</td>\n",
       "      <td>Número de homicídios do sexo masculino</td>\n",
       "    </tr>\n",
       "    <tr>\n",
       "      <th>1363</th>\n",
       "      <td>HOMICMJ</td>\n",
       "      <td>Número de homicídios de jovens de 15 a 29 anos...</td>\n",
       "    </tr>\n",
       "    <tr>\n",
       "      <th>1370</th>\n",
       "      <td>PHOMIC</td>\n",
       "      <td>Proporção de homicídios como causa de mortalidade</td>\n",
       "    </tr>\n",
       "    <tr>\n",
       "      <th>1371</th>\n",
       "      <td>PHOMICF</td>\n",
       "      <td>Proporção de homicídios como causa de mortalid...</td>\n",
       "    </tr>\n",
       "    <tr>\n",
       "      <th>1372</th>\n",
       "      <td>PHOMICFJ</td>\n",
       "      <td>Proporção de homicídios como causa de mortalid...</td>\n",
       "    </tr>\n",
       "    <tr>\n",
       "      <th>1373</th>\n",
       "      <td>PHOMICJ</td>\n",
       "      <td>Proporção de homicídios como causa de mortalid...</td>\n",
       "    </tr>\n",
       "    <tr>\n",
       "      <th>1374</th>\n",
       "      <td>PHOMICM</td>\n",
       "      <td>Proporção de homicídios como causa de mortalid...</td>\n",
       "    </tr>\n",
       "    <tr>\n",
       "      <th>1375</th>\n",
       "      <td>PHOMICMJ</td>\n",
       "      <td>Proporção de homicídios como causa de mortalid...</td>\n",
       "    </tr>\n",
       "    <tr>\n",
       "      <th>1394</th>\n",
       "      <td>THOMIC</td>\n",
       "      <td>Taxa de homicídios (100.000 Habitantes)</td>\n",
       "    </tr>\n",
       "    <tr>\n",
       "      <th>1395</th>\n",
       "      <td>THOMICF</td>\n",
       "      <td>Taxa de homicídios do sexo feminino (100.000 H...</td>\n",
       "    </tr>\n",
       "    <tr>\n",
       "      <th>1396</th>\n",
       "      <td>THOMICFJ</td>\n",
       "      <td>Taxa de homicídios de jovens de 15 a 29 anos d...</td>\n",
       "    </tr>\n",
       "    <tr>\n",
       "      <th>1397</th>\n",
       "      <td>THOMICJ</td>\n",
       "      <td>Taxa de homicídios de jovens de 15 a 29 anos (...</td>\n",
       "    </tr>\n",
       "    <tr>\n",
       "      <th>1398</th>\n",
       "      <td>THOMICM</td>\n",
       "      <td>Taxa de homicídios do sexo masculino (100.000 ...</td>\n",
       "    </tr>\n",
       "    <tr>\n",
       "      <th>1399</th>\n",
       "      <td>THOMICMJ</td>\n",
       "      <td>Taxa de homicídios de jovens de 15 a 29 anos d...</td>\n",
       "    </tr>\n",
       "  </tbody>\n",
       "</table>\n",
       "</div>"
      ]
     },
     "metadata": {
      "application/vnd.databricks.v1+output": {
       "addedWidgets": {},
       "arguments": {},
       "data": "<div>\n<style scoped>\n    .dataframe tbody tr th:only-of-type {\n        vertical-align: middle;\n    }\n\n    .dataframe tbody tr th {\n        vertical-align: top;\n    }\n\n    .dataframe thead th {\n        text-align: right;\n    }\n</style>\n<table border=\"1\" class=\"dataframe\">\n  <thead>\n    <tr style=\"text-align: right;\">\n      <th></th>\n      <th>CODE</th>\n      <th>NAME</th>\n    </tr>\n  </thead>\n  <tbody>\n    <tr>\n      <th>1358</th>\n      <td>HOMIC</td>\n      <td>Número de homicídios</td>\n    </tr>\n    <tr>\n      <th>1359</th>\n      <td>HOMICF</td>\n      <td>Número de homicídios do sexo feminino</td>\n    </tr>\n    <tr>\n      <th>1360</th>\n      <td>HOMICFJ</td>\n      <td>Número de homicídios de jovens de 15 a 29 anos...</td>\n    </tr>\n    <tr>\n      <th>1361</th>\n      <td>HOMICJ</td>\n      <td>Número de homicídios de jovens de 15 a 29 anos</td>\n    </tr>\n    <tr>\n      <th>1362</th>\n      <td>HOMICM</td>\n      <td>Número de homicídios do sexo masculino</td>\n    </tr>\n    <tr>\n      <th>1363</th>\n      <td>HOMICMJ</td>\n      <td>Número de homicídios de jovens de 15 a 29 anos...</td>\n    </tr>\n    <tr>\n      <th>1370</th>\n      <td>PHOMIC</td>\n      <td>Proporção de homicídios como causa de mortalidade</td>\n    </tr>\n    <tr>\n      <th>1371</th>\n      <td>PHOMICF</td>\n      <td>Proporção de homicídios como causa de mortalid...</td>\n    </tr>\n    <tr>\n      <th>1372</th>\n      <td>PHOMICFJ</td>\n      <td>Proporção de homicídios como causa de mortalid...</td>\n    </tr>\n    <tr>\n      <th>1373</th>\n      <td>PHOMICJ</td>\n      <td>Proporção de homicídios como causa de mortalid...</td>\n    </tr>\n    <tr>\n      <th>1374</th>\n      <td>PHOMICM</td>\n      <td>Proporção de homicídios como causa de mortalid...</td>\n    </tr>\n    <tr>\n      <th>1375</th>\n      <td>PHOMICMJ</td>\n      <td>Proporção de homicídios como causa de mortalid...</td>\n    </tr>\n    <tr>\n      <th>1394</th>\n      <td>THOMIC</td>\n      <td>Taxa de homicídios (100.000 Habitantes)</td>\n    </tr>\n    <tr>\n      <th>1395</th>\n      <td>THOMICF</td>\n      <td>Taxa de homicídios do sexo feminino (100.000 H...</td>\n    </tr>\n    <tr>\n      <th>1396</th>\n      <td>THOMICFJ</td>\n      <td>Taxa de homicídios de jovens de 15 a 29 anos d...</td>\n    </tr>\n    <tr>\n      <th>1397</th>\n      <td>THOMICJ</td>\n      <td>Taxa de homicídios de jovens de 15 a 29 anos (...</td>\n    </tr>\n    <tr>\n      <th>1398</th>\n      <td>THOMICM</td>\n      <td>Taxa de homicídios do sexo masculino (100.000 ...</td>\n    </tr>\n    <tr>\n      <th>1399</th>\n      <td>THOMICMJ</td>\n      <td>Taxa de homicídios de jovens de 15 a 29 anos d...</td>\n    </tr>\n  </tbody>\n</table>\n</div>",
       "datasetInfos": [],
       "metadata": {},
       "removedWidgets": [],
       "textData": null,
       "type": "htmlSandbox"
      }
     },
     "output_type": "display_data"
    }
   ],
   "source": [
    "# 1359\tHOMICF\tNúmero de homicídios do sexo feminino\n",
    "\n",
    "buscar = 'homicídio'\n",
    "series[ series['NAME'].str.contains(buscar, case=False, na=False)]"
   ]
  },
  {
   "cell_type": "code",
   "execution_count": 0,
   "metadata": {
    "application/vnd.databricks.v1+cell": {
     "cellMetadata": {
      "byteLimit": 2048000,
      "rowLimit": 10000
     },
     "inputWidgets": {},
     "nuid": "0888b709-0ed3-485b-810a-045275754803",
     "showTitle": false,
     "title": ""
    }
   },
   "outputs": [
    {
     "output_type": "display_data",
     "data": {
      "text/html": [
       "<div>\n",
       "<style scoped>\n",
       "    .dataframe tbody tr th:only-of-type {\n",
       "        vertical-align: middle;\n",
       "    }\n",
       "\n",
       "    .dataframe tbody tr th {\n",
       "        vertical-align: top;\n",
       "    }\n",
       "\n",
       "    .dataframe thead th {\n",
       "        text-align: right;\n",
       "    }\n",
       "</style>\n",
       "<table border=\"1\" class=\"dataframe\">\n",
       "  <thead>\n",
       "    <tr style=\"text-align: right;\">\n",
       "      <th></th>\n",
       "      <th>DATE</th>\n",
       "      <th>CODE</th>\n",
       "      <th>RAW DATE</th>\n",
       "      <th>TERCODIGO</th>\n",
       "      <th>YEAR</th>\n",
       "      <th>NIVNOME</th>\n",
       "      <th>VALUE (Unidade)</th>\n",
       "    </tr>\n",
       "  </thead>\n",
       "  <tbody>\n",
       "    <tr>\n",
       "      <th>0</th>\n",
       "      <td>1980-01-01</td>\n",
       "      <td>HOMICF</td>\n",
       "      <td>1980-01-01T00:00:00-02:00</td>\n",
       "      <td>15AMC1872_1997004</td>\n",
       "      <td>1980</td>\n",
       "      <td>AMC 1872-00</td>\n",
       "      <td>1.0</td>\n",
       "    </tr>\n",
       "    <tr>\n",
       "      <th>1</th>\n",
       "      <td>1980-01-01</td>\n",
       "      <td>HOMICF</td>\n",
       "      <td>1980-01-01T00:00:00-02:00</td>\n",
       "      <td>15AMC1872_1997008</td>\n",
       "      <td>1980</td>\n",
       "      <td>AMC 1872-00</td>\n",
       "      <td>1.0</td>\n",
       "    </tr>\n",
       "    <tr>\n",
       "      <th>2</th>\n",
       "      <td>1980-01-01</td>\n",
       "      <td>HOMICF</td>\n",
       "      <td>1980-01-01T00:00:00-02:00</td>\n",
       "      <td>21AMC1872_1997011</td>\n",
       "      <td>1980</td>\n",
       "      <td>AMC 1872-00</td>\n",
       "      <td>1.0</td>\n",
       "    </tr>\n",
       "    <tr>\n",
       "      <th>3</th>\n",
       "      <td>1980-01-01</td>\n",
       "      <td>HOMICF</td>\n",
       "      <td>1980-01-01T00:00:00-02:00</td>\n",
       "      <td>23AMC1872_1997002</td>\n",
       "      <td>1980</td>\n",
       "      <td>AMC 1872-00</td>\n",
       "      <td>1.0</td>\n",
       "    </tr>\n",
       "    <tr>\n",
       "      <th>4</th>\n",
       "      <td>1980-01-01</td>\n",
       "      <td>HOMICF</td>\n",
       "      <td>1980-01-01T00:00:00-02:00</td>\n",
       "      <td>23AMC1872_1997003</td>\n",
       "      <td>1980</td>\n",
       "      <td>AMC 1872-00</td>\n",
       "      <td>1.0</td>\n",
       "    </tr>\n",
       "  </tbody>\n",
       "</table>\n",
       "</div>"
      ]
     },
     "metadata": {
      "application/vnd.databricks.v1+output": {
       "addedWidgets": {},
       "arguments": {},
       "data": "<div>\n<style scoped>\n    .dataframe tbody tr th:only-of-type {\n        vertical-align: middle;\n    }\n\n    .dataframe tbody tr th {\n        vertical-align: top;\n    }\n\n    .dataframe thead th {\n        text-align: right;\n    }\n</style>\n<table border=\"1\" class=\"dataframe\">\n  <thead>\n    <tr style=\"text-align: right;\">\n      <th></th>\n      <th>DATE</th>\n      <th>CODE</th>\n      <th>RAW DATE</th>\n      <th>TERCODIGO</th>\n      <th>YEAR</th>\n      <th>NIVNOME</th>\n      <th>VALUE (Unidade)</th>\n    </tr>\n  </thead>\n  <tbody>\n    <tr>\n      <th>0</th>\n      <td>1980-01-01</td>\n      <td>HOMICF</td>\n      <td>1980-01-01T00:00:00-02:00</td>\n      <td>15AMC1872_1997004</td>\n      <td>1980</td>\n      <td>AMC 1872-00</td>\n      <td>1.0</td>\n    </tr>\n    <tr>\n      <th>1</th>\n      <td>1980-01-01</td>\n      <td>HOMICF</td>\n      <td>1980-01-01T00:00:00-02:00</td>\n      <td>15AMC1872_1997008</td>\n      <td>1980</td>\n      <td>AMC 1872-00</td>\n      <td>1.0</td>\n    </tr>\n    <tr>\n      <th>2</th>\n      <td>1980-01-01</td>\n      <td>HOMICF</td>\n      <td>1980-01-01T00:00:00-02:00</td>\n      <td>21AMC1872_1997011</td>\n      <td>1980</td>\n      <td>AMC 1872-00</td>\n      <td>1.0</td>\n    </tr>\n    <tr>\n      <th>3</th>\n      <td>1980-01-01</td>\n      <td>HOMICF</td>\n      <td>1980-01-01T00:00:00-02:00</td>\n      <td>23AMC1872_1997002</td>\n      <td>1980</td>\n      <td>AMC 1872-00</td>\n      <td>1.0</td>\n    </tr>\n    <tr>\n      <th>4</th>\n      <td>1980-01-01</td>\n      <td>HOMICF</td>\n      <td>1980-01-01T00:00:00-02:00</td>\n      <td>23AMC1872_1997003</td>\n      <td>1980</td>\n      <td>AMC 1872-00</td>\n      <td>1.0</td>\n    </tr>\n  </tbody>\n</table>\n</div>",
       "datasetInfos": [],
       "metadata": {},
       "removedWidgets": [],
       "textData": null,
       "type": "htmlSandbox"
      }
     },
     "output_type": "display_data"
    }
   ],
   "source": [
    "# construindo o dataframe com o método da biblioteca do ipea passando o códico da série.\n",
    "# A biblioteca do IPEA importa o pandas junto a ela.\n",
    "\n",
    "df = ipea.timeseries('HOMICF').reset_index()\n",
    "df.head()"
   ]
  },
  {
   "cell_type": "code",
   "execution_count": 0,
   "metadata": {
    "application/vnd.databricks.v1+cell": {
     "cellMetadata": {
      "byteLimit": 2048000,
      "rowLimit": 10000
     },
     "inputWidgets": {},
     "nuid": "1d6c0fb3-0778-4f28-9fad-9ab3908c3153",
     "showTitle": false,
     "title": ""
    }
   },
   "outputs": [],
   "source": [
    "# Import da bibliotece json e fazendo as requisições HTTPs\n",
    "import pandas as pd\n",
    "import json\n",
    "url_municipios = 'https://servicodados.ibge.gov.br/api/v1/localidades/distritos/'\n",
    "url_estados = 'https://servicodados.ibge.gov.br/api/v1/localidades/estados/'\n",
    "resp_municipio = requests.get(url_municipios)\n",
    "resp_estados = requests.get(url_estados)"
   ]
  },
  {
   "cell_type": "code",
   "execution_count": 0,
   "metadata": {
    "application/vnd.databricks.v1+cell": {
     "cellMetadata": {
      "byteLimit": 2048000,
      "rowLimit": 10000
     },
     "inputWidgets": {},
     "nuid": "10d1ec26-eb15-4350-8767-ee93b27b0b9a",
     "showTitle": false,
     "title": ""
    }
   },
   "outputs": [],
   "source": [
    "# Atribuindo a resposta a uma variável\n",
    "data_municipio = resp_municipio.json()\n",
    "data_estados = resp_estados.json()\n",
    "\n",
    "# construindo os dataframes\n",
    "ibge_municicio = pd.DataFrame(data_municipio)\n",
    "ibge_estados = pd.DataFrame(data_estados)"
   ]
  },
  {
   "cell_type": "markdown",
   "metadata": {
    "application/vnd.databricks.v1+cell": {
     "cellMetadata": {},
     "inputWidgets": {},
     "nuid": "bd4687e2-fba2-4f4c-97e5-8a104b8327ce",
     "showTitle": false,
     "title": ""
    }
   },
   "source": [
    "### TRANSFORM"
   ]
  },
  {
   "cell_type": "code",
   "execution_count": 0,
   "metadata": {
    "application/vnd.databricks.v1+cell": {
     "cellMetadata": {
      "byteLimit": 2048000,
      "rowLimit": 10000
     },
     "inputWidgets": {},
     "nuid": "d28856c2-7ba0-466c-8222-ca1b3bc3c928",
     "showTitle": false,
     "title": ""
    }
   },
   "outputs": [
    {
     "output_type": "stream",
     "name": "stdout",
     "output_type": "stream",
     "text": [
      "Out[109]: DATE               0\nCODE               0\nRAW DATE           0\nTERCODIGO          0\nYEAR               0\nNIVNOME            0\nVALUE (Unidade)    0\ndtype: int64"
     ]
    }
   ],
   "source": [
    "# Verificando Dados nulos\n",
    "df.isnull().sum()"
   ]
  },
  {
   "cell_type": "code",
   "execution_count": 0,
   "metadata": {
    "application/vnd.databricks.v1+cell": {
     "cellMetadata": {
      "byteLimit": 2048000,
      "rowLimit": 10000
     },
     "inputWidgets": {},
     "nuid": "860009ce-fc5d-41e6-bd68-cef991192688",
     "showTitle": false,
     "title": ""
    }
   },
   "outputs": [
    {
     "output_type": "stream",
     "name": "stdout",
     "output_type": "stream",
     "text": [
      "Out[111]: DATE               0\nCODE               0\nRAW DATE           0\nTERCODIGO          0\nYEAR               0\nNIVNOME            0\nVALUE (Unidade)    0\ndtype: int64"
     ]
    }
   ],
   "source": [
    "# Verificando Dados NaN\n",
    "df.isna().sum()"
   ]
  },
  {
   "cell_type": "code",
   "execution_count": 0,
   "metadata": {
    "application/vnd.databricks.v1+cell": {
     "cellMetadata": {
      "byteLimit": 2048000,
      "rowLimit": 10000
     },
     "inputWidgets": {},
     "nuid": "557b7f9f-6ac0-407f-a14c-cb03f33034f8",
     "showTitle": false,
     "title": ""
    }
   },
   "outputs": [
    {
     "output_type": "display_data",
     "data": {
      "text/html": [
       "<div>\n",
       "<style scoped>\n",
       "    .dataframe tbody tr th:only-of-type {\n",
       "        vertical-align: middle;\n",
       "    }\n",
       "\n",
       "    .dataframe tbody tr th {\n",
       "        vertical-align: top;\n",
       "    }\n",
       "\n",
       "    .dataframe thead th {\n",
       "        text-align: right;\n",
       "    }\n",
       "</style>\n",
       "<table border=\"1\" class=\"dataframe\">\n",
       "  <thead>\n",
       "    <tr style=\"text-align: right;\">\n",
       "      <th></th>\n",
       "      <th>TERCODIGO</th>\n",
       "      <th>YEAR</th>\n",
       "      <th>NIVNOME</th>\n",
       "      <th>VALUE (Unidade)</th>\n",
       "    </tr>\n",
       "  </thead>\n",
       "  <tbody>\n",
       "    <tr>\n",
       "      <th>0</th>\n",
       "      <td>15AMC1872_1997004</td>\n",
       "      <td>1980</td>\n",
       "      <td>AMC 1872-00</td>\n",
       "      <td>1.0</td>\n",
       "    </tr>\n",
       "    <tr>\n",
       "      <th>1</th>\n",
       "      <td>15AMC1872_1997008</td>\n",
       "      <td>1980</td>\n",
       "      <td>AMC 1872-00</td>\n",
       "      <td>1.0</td>\n",
       "    </tr>\n",
       "    <tr>\n",
       "      <th>2</th>\n",
       "      <td>21AMC1872_1997011</td>\n",
       "      <td>1980</td>\n",
       "      <td>AMC 1872-00</td>\n",
       "      <td>1.0</td>\n",
       "    </tr>\n",
       "    <tr>\n",
       "      <th>3</th>\n",
       "      <td>23AMC1872_1997002</td>\n",
       "      <td>1980</td>\n",
       "      <td>AMC 1872-00</td>\n",
       "      <td>1.0</td>\n",
       "    </tr>\n",
       "    <tr>\n",
       "      <th>4</th>\n",
       "      <td>23AMC1872_1997003</td>\n",
       "      <td>1980</td>\n",
       "      <td>AMC 1872-00</td>\n",
       "      <td>1.0</td>\n",
       "    </tr>\n",
       "    <tr>\n",
       "      <th>...</th>\n",
       "      <td>...</td>\n",
       "      <td>...</td>\n",
       "      <td>...</td>\n",
       "      <td>...</td>\n",
       "    </tr>\n",
       "    <tr>\n",
       "      <th>137857</th>\n",
       "      <td>1</td>\n",
       "      <td>2022</td>\n",
       "      <td>Regiões</td>\n",
       "      <td>476.0</td>\n",
       "    </tr>\n",
       "    <tr>\n",
       "      <th>137858</th>\n",
       "      <td>4</td>\n",
       "      <td>2022</td>\n",
       "      <td>Regiões</td>\n",
       "      <td>581.0</td>\n",
       "    </tr>\n",
       "    <tr>\n",
       "      <th>137859</th>\n",
       "      <td>3</td>\n",
       "      <td>2022</td>\n",
       "      <td>Regiões</td>\n",
       "      <td>990.0</td>\n",
       "    </tr>\n",
       "    <tr>\n",
       "      <th>137860</th>\n",
       "      <td>2</td>\n",
       "      <td>2022</td>\n",
       "      <td>Regiões</td>\n",
       "      <td>1373.0</td>\n",
       "    </tr>\n",
       "    <tr>\n",
       "      <th>137861</th>\n",
       "      <td>0</td>\n",
       "      <td>2022</td>\n",
       "      <td>Brasil</td>\n",
       "      <td>3780.0</td>\n",
       "    </tr>\n",
       "  </tbody>\n",
       "</table>\n",
       "<p>137862 rows × 4 columns</p>\n",
       "</div>"
      ]
     },
     "metadata": {
      "application/vnd.databricks.v1+output": {
       "addedWidgets": {},
       "arguments": {},
       "data": "<div>\n<style scoped>\n    .dataframe tbody tr th:only-of-type {\n        vertical-align: middle;\n    }\n\n    .dataframe tbody tr th {\n        vertical-align: top;\n    }\n\n    .dataframe thead th {\n        text-align: right;\n    }\n</style>\n<table border=\"1\" class=\"dataframe\">\n  <thead>\n    <tr style=\"text-align: right;\">\n      <th></th>\n      <th>TERCODIGO</th>\n      <th>YEAR</th>\n      <th>NIVNOME</th>\n      <th>VALUE (Unidade)</th>\n    </tr>\n  </thead>\n  <tbody>\n    <tr>\n      <th>0</th>\n      <td>15AMC1872_1997004</td>\n      <td>1980</td>\n      <td>AMC 1872-00</td>\n      <td>1.0</td>\n    </tr>\n    <tr>\n      <th>1</th>\n      <td>15AMC1872_1997008</td>\n      <td>1980</td>\n      <td>AMC 1872-00</td>\n      <td>1.0</td>\n    </tr>\n    <tr>\n      <th>2</th>\n      <td>21AMC1872_1997011</td>\n      <td>1980</td>\n      <td>AMC 1872-00</td>\n      <td>1.0</td>\n    </tr>\n    <tr>\n      <th>3</th>\n      <td>23AMC1872_1997002</td>\n      <td>1980</td>\n      <td>AMC 1872-00</td>\n      <td>1.0</td>\n    </tr>\n    <tr>\n      <th>4</th>\n      <td>23AMC1872_1997003</td>\n      <td>1980</td>\n      <td>AMC 1872-00</td>\n      <td>1.0</td>\n    </tr>\n    <tr>\n      <th>...</th>\n      <td>...</td>\n      <td>...</td>\n      <td>...</td>\n      <td>...</td>\n    </tr>\n    <tr>\n      <th>137857</th>\n      <td>1</td>\n      <td>2022</td>\n      <td>Regiões</td>\n      <td>476.0</td>\n    </tr>\n    <tr>\n      <th>137858</th>\n      <td>4</td>\n      <td>2022</td>\n      <td>Regiões</td>\n      <td>581.0</td>\n    </tr>\n    <tr>\n      <th>137859</th>\n      <td>3</td>\n      <td>2022</td>\n      <td>Regiões</td>\n      <td>990.0</td>\n    </tr>\n    <tr>\n      <th>137860</th>\n      <td>2</td>\n      <td>2022</td>\n      <td>Regiões</td>\n      <td>1373.0</td>\n    </tr>\n    <tr>\n      <th>137861</th>\n      <td>0</td>\n      <td>2022</td>\n      <td>Brasil</td>\n      <td>3780.0</td>\n    </tr>\n  </tbody>\n</table>\n<p>137862 rows × 4 columns</p>\n</div>",
       "datasetInfos": [],
       "metadata": {},
       "removedWidgets": [],
       "textData": null,
       "type": "htmlSandbox"
      }
     },
     "output_type": "display_data"
    }
   ],
   "source": [
    "# Excluindo as colunas que não serão utilizadas\n",
    "df.keys() # ['DATE', 'CODE', 'RAW DATE', 'TERCODIGO', 'YEAR', 'NIVNOME','VALUE (Unidade)']\n",
    "excluir = ['DATE', 'CODE', 'RAW DATE']\n",
    "df.drop(columns=excluir, inplace=True)\n",
    "df"
   ]
  },
  {
   "cell_type": "code",
   "execution_count": 0,
   "metadata": {
    "application/vnd.databricks.v1+cell": {
     "cellMetadata": {
      "byteLimit": 2048000,
      "rowLimit": 10000
     },
     "inputWidgets": {},
     "nuid": "01caa249-6e50-41d0-bc7c-14684a84bf00",
     "showTitle": false,
     "title": ""
    }
   },
   "outputs": [
    {
     "output_type": "display_data",
     "data": {
      "text/html": [
       "<div>\n",
       "<style scoped>\n",
       "    .dataframe tbody tr th:only-of-type {\n",
       "        vertical-align: middle;\n",
       "    }\n",
       "\n",
       "    .dataframe tbody tr th {\n",
       "        vertical-align: top;\n",
       "    }\n",
       "\n",
       "    .dataframe thead th {\n",
       "        text-align: right;\n",
       "    }\n",
       "</style>\n",
       "<table border=\"1\" class=\"dataframe\">\n",
       "  <thead>\n",
       "    <tr style=\"text-align: right;\">\n",
       "      <th></th>\n",
       "      <th>TERCODIGO</th>\n",
       "      <th>YEAR</th>\n",
       "      <th>NIVNOME</th>\n",
       "      <th>VALUE (Unidade)</th>\n",
       "    </tr>\n",
       "  </thead>\n",
       "  <tbody>\n",
       "    <tr>\n",
       "      <th>55401</th>\n",
       "      <td>2616001</td>\n",
       "      <td>1995</td>\n",
       "      <td>Municípios</td>\n",
       "      <td>1.0</td>\n",
       "    </tr>\n",
       "    <tr>\n",
       "      <th>86548</th>\n",
       "      <td>52AMC6097039</td>\n",
       "      <td>2001</td>\n",
       "      <td>AMC 60-00</td>\n",
       "      <td>2.0</td>\n",
       "    </tr>\n",
       "    <tr>\n",
       "      <th>47688</th>\n",
       "      <td>35018</td>\n",
       "      <td>1993</td>\n",
       "      <td>Microrregiões</td>\n",
       "      <td>3.0</td>\n",
       "    </tr>\n",
       "    <tr>\n",
       "      <th>97180</th>\n",
       "      <td>4107702</td>\n",
       "      <td>2004</td>\n",
       "      <td>Municípios</td>\n",
       "      <td>1.0</td>\n",
       "    </tr>\n",
       "    <tr>\n",
       "      <th>32517</th>\n",
       "      <td>290060</td>\n",
       "      <td>1990</td>\n",
       "      <td>AMC 70-00</td>\n",
       "      <td>1.0</td>\n",
       "    </tr>\n",
       "    <tr>\n",
       "      <th>29542</th>\n",
       "      <td>2614600</td>\n",
       "      <td>1989</td>\n",
       "      <td>Municípios</td>\n",
       "      <td>1.0</td>\n",
       "    </tr>\n",
       "    <tr>\n",
       "      <th>128868</th>\n",
       "      <td>2500304</td>\n",
       "      <td>2019</td>\n",
       "      <td>Municípios</td>\n",
       "      <td>1.0</td>\n",
       "    </tr>\n",
       "    <tr>\n",
       "      <th>6378</th>\n",
       "      <td>260780</td>\n",
       "      <td>1982</td>\n",
       "      <td>AMC 70-00</td>\n",
       "      <td>1.0</td>\n",
       "    </tr>\n",
       "    <tr>\n",
       "      <th>85416</th>\n",
       "      <td>411710</td>\n",
       "      <td>2001</td>\n",
       "      <td>AMC 91-00</td>\n",
       "      <td>1.0</td>\n",
       "    </tr>\n",
       "    <tr>\n",
       "      <th>129211</th>\n",
       "      <td>3506102</td>\n",
       "      <td>2019</td>\n",
       "      <td>Municípios</td>\n",
       "      <td>1.0</td>\n",
       "    </tr>\n",
       "  </tbody>\n",
       "</table>\n",
       "</div>"
      ]
     },
     "metadata": {
      "application/vnd.databricks.v1+output": {
       "addedWidgets": {},
       "arguments": {},
       "data": "<div>\n<style scoped>\n    .dataframe tbody tr th:only-of-type {\n        vertical-align: middle;\n    }\n\n    .dataframe tbody tr th {\n        vertical-align: top;\n    }\n\n    .dataframe thead th {\n        text-align: right;\n    }\n</style>\n<table border=\"1\" class=\"dataframe\">\n  <thead>\n    <tr style=\"text-align: right;\">\n      <th></th>\n      <th>TERCODIGO</th>\n      <th>YEAR</th>\n      <th>NIVNOME</th>\n      <th>VALUE (Unidade)</th>\n    </tr>\n  </thead>\n  <tbody>\n    <tr>\n      <th>55401</th>\n      <td>2616001</td>\n      <td>1995</td>\n      <td>Municípios</td>\n      <td>1.0</td>\n    </tr>\n    <tr>\n      <th>86548</th>\n      <td>52AMC6097039</td>\n      <td>2001</td>\n      <td>AMC 60-00</td>\n      <td>2.0</td>\n    </tr>\n    <tr>\n      <th>47688</th>\n      <td>35018</td>\n      <td>1993</td>\n      <td>Microrregiões</td>\n      <td>3.0</td>\n    </tr>\n    <tr>\n      <th>97180</th>\n      <td>4107702</td>\n      <td>2004</td>\n      <td>Municípios</td>\n      <td>1.0</td>\n    </tr>\n    <tr>\n      <th>32517</th>\n      <td>290060</td>\n      <td>1990</td>\n      <td>AMC 70-00</td>\n      <td>1.0</td>\n    </tr>\n    <tr>\n      <th>29542</th>\n      <td>2614600</td>\n      <td>1989</td>\n      <td>Municípios</td>\n      <td>1.0</td>\n    </tr>\n    <tr>\n      <th>128868</th>\n      <td>2500304</td>\n      <td>2019</td>\n      <td>Municípios</td>\n      <td>1.0</td>\n    </tr>\n    <tr>\n      <th>6378</th>\n      <td>260780</td>\n      <td>1982</td>\n      <td>AMC 70-00</td>\n      <td>1.0</td>\n    </tr>\n    <tr>\n      <th>85416</th>\n      <td>411710</td>\n      <td>2001</td>\n      <td>AMC 91-00</td>\n      <td>1.0</td>\n    </tr>\n    <tr>\n      <th>129211</th>\n      <td>3506102</td>\n      <td>2019</td>\n      <td>Municípios</td>\n      <td>1.0</td>\n    </tr>\n  </tbody>\n</table>\n</div>",
       "datasetInfos": [],
       "metadata": {},
       "removedWidgets": [],
       "textData": null,
       "type": "htmlSandbox"
      }
     },
     "output_type": "display_data"
    }
   ],
   "source": [
    "# Uma Amostra Geral\n",
    "df.sample(10)"
   ]
  },
  {
   "cell_type": "markdown",
   "metadata": {
    "application/vnd.databricks.v1+cell": {
     "cellMetadata": {},
     "inputWidgets": {},
     "nuid": "8da32bb9-3ebc-47e0-9112-4a02eedca3cc",
     "showTitle": false,
     "title": ""
    }
   },
   "source": [
    "### Renomeando as colunas"
   ]
  },
  {
   "cell_type": "code",
   "execution_count": 0,
   "metadata": {
    "application/vnd.databricks.v1+cell": {
     "cellMetadata": {
      "byteLimit": 2048000,
      "rowLimit": 10000
     },
     "inputWidgets": {},
     "nuid": "cfdf2c92-4687-46e4-9581-dcab7baca1af",
     "showTitle": false,
     "title": ""
    }
   },
   "outputs": [],
   "source": [
    "# Renomeando as colunas\n",
    "\n",
    "colunas = ['id', 'Ano', 'Territorio', 'Quantidade_vitimas']\n",
    "df.columns = colunas"
   ]
  },
  {
   "cell_type": "code",
   "execution_count": 0,
   "metadata": {
    "application/vnd.databricks.v1+cell": {
     "cellMetadata": {
      "byteLimit": 2048000,
      "rowLimit": 10000
     },
     "inputWidgets": {},
     "nuid": "3859f0c0-725f-4c45-aa61-9bbead483188",
     "showTitle": false,
     "title": ""
    }
   },
   "outputs": [
    {
     "output_type": "display_data",
     "data": {
      "text/html": [
       "<div>\n",
       "<style scoped>\n",
       "    .dataframe tbody tr th:only-of-type {\n",
       "        vertical-align: middle;\n",
       "    }\n",
       "\n",
       "    .dataframe tbody tr th {\n",
       "        vertical-align: top;\n",
       "    }\n",
       "\n",
       "    .dataframe thead th {\n",
       "        text-align: right;\n",
       "    }\n",
       "</style>\n",
       "<table border=\"1\" class=\"dataframe\">\n",
       "  <thead>\n",
       "    <tr style=\"text-align: right;\">\n",
       "      <th></th>\n",
       "      <th>id</th>\n",
       "      <th>Ano</th>\n",
       "      <th>Territorio</th>\n",
       "      <th>Quantidade_vitimas</th>\n",
       "    </tr>\n",
       "  </thead>\n",
       "  <tbody>\n",
       "    <tr>\n",
       "      <th>25555</th>\n",
       "      <td>150220</td>\n",
       "      <td>1988</td>\n",
       "      <td>AMC 70-00</td>\n",
       "      <td>1</td>\n",
       "    </tr>\n",
       "    <tr>\n",
       "      <th>89434</th>\n",
       "      <td>35AMC4097045</td>\n",
       "      <td>2002</td>\n",
       "      <td>AMC 40-00</td>\n",
       "      <td>1</td>\n",
       "    </tr>\n",
       "    <tr>\n",
       "      <th>5596</th>\n",
       "      <td>35AMC1872_1997024</td>\n",
       "      <td>1981</td>\n",
       "      <td>AMC 1872-00</td>\n",
       "      <td>51</td>\n",
       "    </tr>\n",
       "    <tr>\n",
       "      <th>27627</th>\n",
       "      <td>33AMC4097010</td>\n",
       "      <td>1988</td>\n",
       "      <td>AMC 40-00</td>\n",
       "      <td>5</td>\n",
       "    </tr>\n",
       "    <tr>\n",
       "      <th>73624</th>\n",
       "      <td>510650</td>\n",
       "      <td>1999</td>\n",
       "      <td>AMC 20-00</td>\n",
       "      <td>1</td>\n",
       "    </tr>\n",
       "    <tr>\n",
       "      <th>93930</th>\n",
       "      <td>50AMC7097006</td>\n",
       "      <td>2002</td>\n",
       "      <td>AMC 70-00</td>\n",
       "      <td>9</td>\n",
       "    </tr>\n",
       "    <tr>\n",
       "      <th>8059</th>\n",
       "      <td>35055</td>\n",
       "      <td>1982</td>\n",
       "      <td>Microrregiões</td>\n",
       "      <td>4</td>\n",
       "    </tr>\n",
       "    <tr>\n",
       "      <th>131509</th>\n",
       "      <td>4126504</td>\n",
       "      <td>2020</td>\n",
       "      <td>Municípios</td>\n",
       "      <td>1</td>\n",
       "    </tr>\n",
       "    <tr>\n",
       "      <th>128683</th>\n",
       "      <td>1501501</td>\n",
       "      <td>2019</td>\n",
       "      <td>Municípios</td>\n",
       "      <td>1</td>\n",
       "    </tr>\n",
       "    <tr>\n",
       "      <th>64180</th>\n",
       "      <td>314400</td>\n",
       "      <td>1997</td>\n",
       "      <td>AMC 60-00</td>\n",
       "      <td>1</td>\n",
       "    </tr>\n",
       "  </tbody>\n",
       "</table>\n",
       "</div>"
      ]
     },
     "metadata": {
      "application/vnd.databricks.v1+output": {
       "addedWidgets": {},
       "arguments": {},
       "data": "<div>\n<style scoped>\n    .dataframe tbody tr th:only-of-type {\n        vertical-align: middle;\n    }\n\n    .dataframe tbody tr th {\n        vertical-align: top;\n    }\n\n    .dataframe thead th {\n        text-align: right;\n    }\n</style>\n<table border=\"1\" class=\"dataframe\">\n  <thead>\n    <tr style=\"text-align: right;\">\n      <th></th>\n      <th>id</th>\n      <th>Ano</th>\n      <th>Territorio</th>\n      <th>Quantidade_vitimas</th>\n    </tr>\n  </thead>\n  <tbody>\n    <tr>\n      <th>25555</th>\n      <td>150220</td>\n      <td>1988</td>\n      <td>AMC 70-00</td>\n      <td>1</td>\n    </tr>\n    <tr>\n      <th>89434</th>\n      <td>35AMC4097045</td>\n      <td>2002</td>\n      <td>AMC 40-00</td>\n      <td>1</td>\n    </tr>\n    <tr>\n      <th>5596</th>\n      <td>35AMC1872_1997024</td>\n      <td>1981</td>\n      <td>AMC 1872-00</td>\n      <td>51</td>\n    </tr>\n    <tr>\n      <th>27627</th>\n      <td>33AMC4097010</td>\n      <td>1988</td>\n      <td>AMC 40-00</td>\n      <td>5</td>\n    </tr>\n    <tr>\n      <th>73624</th>\n      <td>510650</td>\n      <td>1999</td>\n      <td>AMC 20-00</td>\n      <td>1</td>\n    </tr>\n    <tr>\n      <th>93930</th>\n      <td>50AMC7097006</td>\n      <td>2002</td>\n      <td>AMC 70-00</td>\n      <td>9</td>\n    </tr>\n    <tr>\n      <th>8059</th>\n      <td>35055</td>\n      <td>1982</td>\n      <td>Microrregiões</td>\n      <td>4</td>\n    </tr>\n    <tr>\n      <th>131509</th>\n      <td>4126504</td>\n      <td>2020</td>\n      <td>Municípios</td>\n      <td>1</td>\n    </tr>\n    <tr>\n      <th>128683</th>\n      <td>1501501</td>\n      <td>2019</td>\n      <td>Municípios</td>\n      <td>1</td>\n    </tr>\n    <tr>\n      <th>64180</th>\n      <td>314400</td>\n      <td>1997</td>\n      <td>AMC 60-00</td>\n      <td>1</td>\n    </tr>\n  </tbody>\n</table>\n</div>",
       "datasetInfos": [],
       "metadata": {},
       "removedWidgets": [],
       "textData": null,
       "type": "htmlSandbox"
      }
     },
     "output_type": "display_data"
    }
   ],
   "source": [
    "df.sample(10)"
   ]
  },
  {
   "cell_type": "markdown",
   "metadata": {
    "application/vnd.databricks.v1+cell": {
     "cellMetadata": {},
     "inputWidgets": {},
     "nuid": "06655d42-987f-452a-ab64-dfceb1264ed9",
     "showTitle": false,
     "title": ""
    }
   },
   "source": [
    "### Convertendo a coluna quantidade para int"
   ]
  },
  {
   "cell_type": "code",
   "execution_count": 0,
   "metadata": {
    "application/vnd.databricks.v1+cell": {
     "cellMetadata": {
      "byteLimit": 2048000,
      "rowLimit": 10000
     },
     "inputWidgets": {},
     "nuid": "936c22a4-0b17-4c0f-aac6-1ce5a38cb6fa",
     "showTitle": false,
     "title": ""
    }
   },
   "outputs": [],
   "source": [
    "# Convertendo a coluna quantidade para int\n",
    "\n",
    "df['Quantidade_vitimas'] = df['Quantidade_vitimas'].astype(int)"
   ]
  },
  {
   "cell_type": "code",
   "execution_count": 0,
   "metadata": {
    "application/vnd.databricks.v1+cell": {
     "cellMetadata": {
      "byteLimit": 2048000,
      "rowLimit": 10000
     },
     "inputWidgets": {},
     "nuid": "490d52ea-92af-454a-8dae-3de7292bdc65",
     "showTitle": false,
     "title": ""
    }
   },
   "outputs": [
    {
     "output_type": "stream",
     "name": "stdout",
     "output_type": "stream",
     "text": [
      "Out[126]: Cod_ter               object\nAno                    int64\nTerritorio            object\nQuantidade_vitimas     int64\ndtype: object"
     ]
    }
   ],
   "source": [
    "df.dtypes"
   ]
  },
  {
   "cell_type": "markdown",
   "metadata": {
    "application/vnd.databricks.v1+cell": {
     "cellMetadata": {},
     "inputWidgets": {},
     "nuid": "842c2dee-05d1-429c-8991-0907a428ff65",
     "showTitle": false,
     "title": ""
    }
   },
   "source": [
    "### Integrar a tabela de cod de municipios do IBGE"
   ]
  },
  {
   "cell_type": "code",
   "execution_count": 0,
   "metadata": {
    "application/vnd.databricks.v1+cell": {
     "cellMetadata": {
      "byteLimit": 2048000,
      "rowLimit": 10000
     },
     "inputWidgets": {},
     "nuid": "ffc09b68-f01d-4a4d-9fc6-0a13a8ee6f95",
     "showTitle": false,
     "title": ""
    }
   },
   "outputs": [],
   "source": [
    "# Excluindo a coluna não utilizada\n",
    "ibge_municicio.drop(columns='municipio', inplace=True)"
   ]
  },
  {
   "cell_type": "markdown",
   "metadata": {
    "application/vnd.databricks.v1+cell": {
     "cellMetadata": {},
     "inputWidgets": {},
     "nuid": "fa82c274-e766-42e8-84e2-2da074d841ce",
     "showTitle": false,
     "title": ""
    }
   },
   "source": [
    "### Dataframe com os código de idêntificação dos municípios"
   ]
  },
  {
   "cell_type": "code",
   "execution_count": 0,
   "metadata": {
    "application/vnd.databricks.v1+cell": {
     "cellMetadata": {
      "byteLimit": 2048000,
      "rowLimit": 10000
     },
     "inputWidgets": {},
     "nuid": "162d4309-9ec5-4bb0-b415-7a02f57b200e",
     "showTitle": false,
     "title": ""
    }
   },
   "outputs": [
    {
     "output_type": "display_data",
     "data": {
      "text/html": [
       "<div>\n",
       "<style scoped>\n",
       "    .dataframe tbody tr th:only-of-type {\n",
       "        vertical-align: middle;\n",
       "    }\n",
       "\n",
       "    .dataframe tbody tr th {\n",
       "        vertical-align: top;\n",
       "    }\n",
       "\n",
       "    .dataframe thead th {\n",
       "        text-align: right;\n",
       "    }\n",
       "</style>\n",
       "<table border=\"1\" class=\"dataframe\">\n",
       "  <thead>\n",
       "    <tr style=\"text-align: right;\">\n",
       "      <th></th>\n",
       "      <th>id</th>\n",
       "      <th>nome</th>\n",
       "    </tr>\n",
       "  </thead>\n",
       "  <tbody>\n",
       "    <tr>\n",
       "      <th>1823</th>\n",
       "      <td>420330315</td>\n",
       "      <td>Fragosos</td>\n",
       "    </tr>\n",
       "    <tr>\n",
       "      <th>783</th>\n",
       "      <td>270040910</td>\n",
       "      <td>Sapucaia</td>\n",
       "    </tr>\n",
       "    <tr>\n",
       "      <th>8836</th>\n",
       "      <td>431810120</td>\n",
       "      <td>Toroquá</td>\n",
       "    </tr>\n",
       "    <tr>\n",
       "      <th>10089</th>\n",
       "      <td>355475505</td>\n",
       "      <td>Trabiju</td>\n",
       "    </tr>\n",
       "    <tr>\n",
       "      <th>6238</th>\n",
       "      <td>320370015</td>\n",
       "      <td>Menino Jesus</td>\n",
       "    </tr>\n",
       "  </tbody>\n",
       "</table>\n",
       "</div>"
      ]
     },
     "metadata": {
      "application/vnd.databricks.v1+output": {
       "addedWidgets": {},
       "arguments": {},
       "data": "<div>\n<style scoped>\n    .dataframe tbody tr th:only-of-type {\n        vertical-align: middle;\n    }\n\n    .dataframe tbody tr th {\n        vertical-align: top;\n    }\n\n    .dataframe thead th {\n        text-align: right;\n    }\n</style>\n<table border=\"1\" class=\"dataframe\">\n  <thead>\n    <tr style=\"text-align: right;\">\n      <th></th>\n      <th>id</th>\n      <th>nome</th>\n    </tr>\n  </thead>\n  <tbody>\n    <tr>\n      <th>1823</th>\n      <td>420330315</td>\n      <td>Fragosos</td>\n    </tr>\n    <tr>\n      <th>783</th>\n      <td>270040910</td>\n      <td>Sapucaia</td>\n    </tr>\n    <tr>\n      <th>8836</th>\n      <td>431810120</td>\n      <td>Toroquá</td>\n    </tr>\n    <tr>\n      <th>10089</th>\n      <td>355475505</td>\n      <td>Trabiju</td>\n    </tr>\n    <tr>\n      <th>6238</th>\n      <td>320370015</td>\n      <td>Menino Jesus</td>\n    </tr>\n  </tbody>\n</table>\n</div>",
       "datasetInfos": [],
       "metadata": {},
       "removedWidgets": [],
       "textData": null,
       "type": "htmlSandbox"
      }
     },
     "output_type": "display_data"
    }
   ],
   "source": [
    "ibge_municicio.sample(5)"
   ]
  },
  {
   "cell_type": "markdown",
   "metadata": {
    "application/vnd.databricks.v1+cell": {
     "cellMetadata": {},
     "inputWidgets": {},
     "nuid": "7bd93186-9ed6-4c09-aaee-ccab6a0770cb",
     "showTitle": false,
     "title": ""
    }
   },
   "source": [
    "### Dataframe com os códigos de idêntificação dos Estados"
   ]
  },
  {
   "cell_type": "code",
   "execution_count": 0,
   "metadata": {
    "application/vnd.databricks.v1+cell": {
     "cellMetadata": {
      "byteLimit": 2048000,
      "rowLimit": 10000
     },
     "inputWidgets": {},
     "nuid": "63c5b8a2-fcf9-4a55-98b6-0dec1181b4e5",
     "showTitle": false,
     "title": ""
    }
   },
   "outputs": [
    {
     "output_type": "display_data",
     "data": {
      "text/html": [
       "<div>\n",
       "<style scoped>\n",
       "    .dataframe tbody tr th:only-of-type {\n",
       "        vertical-align: middle;\n",
       "    }\n",
       "\n",
       "    .dataframe tbody tr th {\n",
       "        vertical-align: top;\n",
       "    }\n",
       "\n",
       "    .dataframe thead th {\n",
       "        text-align: right;\n",
       "    }\n",
       "</style>\n",
       "<table border=\"1\" class=\"dataframe\">\n",
       "  <thead>\n",
       "    <tr style=\"text-align: right;\">\n",
       "      <th></th>\n",
       "      <th>id</th>\n",
       "      <th>sigla</th>\n",
       "      <th>nome</th>\n",
       "    </tr>\n",
       "  </thead>\n",
       "  <tbody>\n",
       "    <tr>\n",
       "      <th>23</th>\n",
       "      <td>50</td>\n",
       "      <td>MS</td>\n",
       "      <td>Mato Grosso do Sul</td>\n",
       "    </tr>\n",
       "    <tr>\n",
       "      <th>7</th>\n",
       "      <td>21</td>\n",
       "      <td>MA</td>\n",
       "      <td>Maranhão</td>\n",
       "    </tr>\n",
       "    <tr>\n",
       "      <th>0</th>\n",
       "      <td>11</td>\n",
       "      <td>RO</td>\n",
       "      <td>Rondônia</td>\n",
       "    </tr>\n",
       "    <tr>\n",
       "      <th>19</th>\n",
       "      <td>35</td>\n",
       "      <td>SP</td>\n",
       "      <td>São Paulo</td>\n",
       "    </tr>\n",
       "    <tr>\n",
       "      <th>11</th>\n",
       "      <td>25</td>\n",
       "      <td>PB</td>\n",
       "      <td>Paraíba</td>\n",
       "    </tr>\n",
       "  </tbody>\n",
       "</table>\n",
       "</div>"
      ]
     },
     "metadata": {
      "application/vnd.databricks.v1+output": {
       "addedWidgets": {},
       "arguments": {},
       "data": "<div>\n<style scoped>\n    .dataframe tbody tr th:only-of-type {\n        vertical-align: middle;\n    }\n\n    .dataframe tbody tr th {\n        vertical-align: top;\n    }\n\n    .dataframe thead th {\n        text-align: right;\n    }\n</style>\n<table border=\"1\" class=\"dataframe\">\n  <thead>\n    <tr style=\"text-align: right;\">\n      <th></th>\n      <th>id</th>\n      <th>sigla</th>\n      <th>nome</th>\n    </tr>\n  </thead>\n  <tbody>\n    <tr>\n      <th>23</th>\n      <td>50</td>\n      <td>MS</td>\n      <td>Mato Grosso do Sul</td>\n    </tr>\n    <tr>\n      <th>7</th>\n      <td>21</td>\n      <td>MA</td>\n      <td>Maranhão</td>\n    </tr>\n    <tr>\n      <th>0</th>\n      <td>11</td>\n      <td>RO</td>\n      <td>Rondônia</td>\n    </tr>\n    <tr>\n      <th>19</th>\n      <td>35</td>\n      <td>SP</td>\n      <td>São Paulo</td>\n    </tr>\n    <tr>\n      <th>11</th>\n      <td>25</td>\n      <td>PB</td>\n      <td>Paraíba</td>\n    </tr>\n  </tbody>\n</table>\n</div>",
       "datasetInfos": [],
       "metadata": {},
       "removedWidgets": [],
       "textData": null,
       "type": "htmlSandbox"
      }
     },
     "output_type": "display_data"
    }
   ],
   "source": [
    "ibge_estados.drop(columns='regiao', inplace=True)\n",
    "ibge_estados.sample(5)"
   ]
  },
  {
   "cell_type": "markdown",
   "metadata": {
    "application/vnd.databricks.v1+cell": {
     "cellMetadata": {},
     "inputWidgets": {},
     "nuid": "2f2ae30b-c947-4b24-98d4-b015b23f8858",
     "showTitle": false,
     "title": ""
    }
   },
   "source": [
    "### Dataframe de Feminicídios a nível Nacional"
   ]
  },
  {
   "cell_type": "code",
   "execution_count": 0,
   "metadata": {
    "application/vnd.databricks.v1+cell": {
     "cellMetadata": {
      "byteLimit": 2048000,
      "rowLimit": 10000
     },
     "inputWidgets": {},
     "nuid": "6682c426-51dc-4f2d-8aa3-d9740f1a5839",
     "showTitle": false,
     "title": ""
    }
   },
   "outputs": [
    {
     "output_type": "display_data",
     "data": {
      "text/html": [
       "<div>\n",
       "<style scoped>\n",
       "    .dataframe tbody tr th:only-of-type {\n",
       "        vertical-align: middle;\n",
       "    }\n",
       "\n",
       "    .dataframe tbody tr th {\n",
       "        vertical-align: top;\n",
       "    }\n",
       "\n",
       "    .dataframe thead th {\n",
       "        text-align: right;\n",
       "    }\n",
       "</style>\n",
       "<table border=\"1\" class=\"dataframe\">\n",
       "  <thead>\n",
       "    <tr style=\"text-align: right;\">\n",
       "      <th></th>\n",
       "      <th>id</th>\n",
       "      <th>Ano</th>\n",
       "      <th>Territorio</th>\n",
       "      <th>Quantidade_vitimas</th>\n",
       "    </tr>\n",
       "  </thead>\n",
       "  <tbody>\n",
       "    <tr>\n",
       "      <th>98392</th>\n",
       "      <td>0</td>\n",
       "      <td>2004</td>\n",
       "      <td>Brasil</td>\n",
       "      <td>3806</td>\n",
       "    </tr>\n",
       "    <tr>\n",
       "      <th>68518</th>\n",
       "      <td>0</td>\n",
       "      <td>1997</td>\n",
       "      <td>Brasil</td>\n",
       "      <td>3585</td>\n",
       "    </tr>\n",
       "    <tr>\n",
       "      <th>104297</th>\n",
       "      <td>0</td>\n",
       "      <td>2007</td>\n",
       "      <td>Brasil</td>\n",
       "      <td>3817</td>\n",
       "    </tr>\n",
       "    <tr>\n",
       "      <th>102301</th>\n",
       "      <td>0</td>\n",
       "      <td>2006</td>\n",
       "      <td>Brasil</td>\n",
       "      <td>4042</td>\n",
       "    </tr>\n",
       "    <tr>\n",
       "      <th>2635</th>\n",
       "      <td>0</td>\n",
       "      <td>1980</td>\n",
       "      <td>Brasil</td>\n",
       "      <td>1349</td>\n",
       "    </tr>\n",
       "    <tr>\n",
       "      <th>96492</th>\n",
       "      <td>0</td>\n",
       "      <td>2003</td>\n",
       "      <td>Brasil</td>\n",
       "      <td>3910</td>\n",
       "    </tr>\n",
       "    <tr>\n",
       "      <th>130716</th>\n",
       "      <td>0</td>\n",
       "      <td>2019</td>\n",
       "      <td>Brasil</td>\n",
       "      <td>3707</td>\n",
       "    </tr>\n",
       "    <tr>\n",
       "      <th>53322</th>\n",
       "      <td>0</td>\n",
       "      <td>1994</td>\n",
       "      <td>Brasil</td>\n",
       "      <td>2835</td>\n",
       "    </tr>\n",
       "    <tr>\n",
       "      <th>35183</th>\n",
       "      <td>0</td>\n",
       "      <td>1990</td>\n",
       "      <td>Brasil</td>\n",
       "      <td>2577</td>\n",
       "    </tr>\n",
       "    <tr>\n",
       "      <th>135646</th>\n",
       "      <td>0</td>\n",
       "      <td>2021</td>\n",
       "      <td>Brasil</td>\n",
       "      <td>7352</td>\n",
       "    </tr>\n",
       "  </tbody>\n",
       "</table>\n",
       "</div>"
      ]
     },
     "metadata": {
      "application/vnd.databricks.v1+output": {
       "addedWidgets": {},
       "arguments": {},
       "data": "<div>\n<style scoped>\n    .dataframe tbody tr th:only-of-type {\n        vertical-align: middle;\n    }\n\n    .dataframe tbody tr th {\n        vertical-align: top;\n    }\n\n    .dataframe thead th {\n        text-align: right;\n    }\n</style>\n<table border=\"1\" class=\"dataframe\">\n  <thead>\n    <tr style=\"text-align: right;\">\n      <th></th>\n      <th>id</th>\n      <th>Ano</th>\n      <th>Territorio</th>\n      <th>Quantidade_vitimas</th>\n    </tr>\n  </thead>\n  <tbody>\n    <tr>\n      <th>98392</th>\n      <td>0</td>\n      <td>2004</td>\n      <td>Brasil</td>\n      <td>3806</td>\n    </tr>\n    <tr>\n      <th>68518</th>\n      <td>0</td>\n      <td>1997</td>\n      <td>Brasil</td>\n      <td>3585</td>\n    </tr>\n    <tr>\n      <th>104297</th>\n      <td>0</td>\n      <td>2007</td>\n      <td>Brasil</td>\n      <td>3817</td>\n    </tr>\n    <tr>\n      <th>102301</th>\n      <td>0</td>\n      <td>2006</td>\n      <td>Brasil</td>\n      <td>4042</td>\n    </tr>\n    <tr>\n      <th>2635</th>\n      <td>0</td>\n      <td>1980</td>\n      <td>Brasil</td>\n      <td>1349</td>\n    </tr>\n    <tr>\n      <th>96492</th>\n      <td>0</td>\n      <td>2003</td>\n      <td>Brasil</td>\n      <td>3910</td>\n    </tr>\n    <tr>\n      <th>130716</th>\n      <td>0</td>\n      <td>2019</td>\n      <td>Brasil</td>\n      <td>3707</td>\n    </tr>\n    <tr>\n      <th>53322</th>\n      <td>0</td>\n      <td>1994</td>\n      <td>Brasil</td>\n      <td>2835</td>\n    </tr>\n    <tr>\n      <th>35183</th>\n      <td>0</td>\n      <td>1990</td>\n      <td>Brasil</td>\n      <td>2577</td>\n    </tr>\n    <tr>\n      <th>135646</th>\n      <td>0</td>\n      <td>2021</td>\n      <td>Brasil</td>\n      <td>7352</td>\n    </tr>\n  </tbody>\n</table>\n</div>",
       "datasetInfos": [],
       "metadata": {},
       "removedWidgets": [],
       "textData": null,
       "type": "htmlSandbox"
      }
     },
     "output_type": "display_data"
    }
   ],
   "source": [
    "# Homicidios Nacional - Dataframe com o número de homicídios a nível Nacional.\n",
    "df_brasil = df[df['Territorio'] == 'Brasil']\n",
    "df_brasil.sample(10)"
   ]
  },
  {
   "cell_type": "markdown",
   "metadata": {
    "application/vnd.databricks.v1+cell": {
     "cellMetadata": {},
     "inputWidgets": {},
     "nuid": "3dab7020-4d2a-46ba-b6bc-abc466392b56",
     "showTitle": false,
     "title": ""
    }
   },
   "source": [
    "### Dataframe de Feminicídios a nível Estadual"
   ]
  },
  {
   "cell_type": "code",
   "execution_count": 0,
   "metadata": {
    "application/vnd.databricks.v1+cell": {
     "cellMetadata": {
      "byteLimit": 2048000,
      "rowLimit": 10000
     },
     "inputWidgets": {},
     "nuid": "17c26c12-391b-4583-a372-18ee39f7ccbd",
     "showTitle": false,
     "title": ""
    }
   },
   "outputs": [
    {
     "output_type": "display_data",
     "data": {
      "text/html": [
       "<div>\n",
       "<style scoped>\n",
       "    .dataframe tbody tr th:only-of-type {\n",
       "        vertical-align: middle;\n",
       "    }\n",
       "\n",
       "    .dataframe tbody tr th {\n",
       "        vertical-align: top;\n",
       "    }\n",
       "\n",
       "    .dataframe thead th {\n",
       "        text-align: right;\n",
       "    }\n",
       "</style>\n",
       "<table border=\"1\" class=\"dataframe\">\n",
       "  <thead>\n",
       "    <tr style=\"text-align: right;\">\n",
       "      <th></th>\n",
       "      <th>index</th>\n",
       "      <th>id</th>\n",
       "      <th>Ano</th>\n",
       "      <th>Territorio</th>\n",
       "      <th>Quantidade_vitimas</th>\n",
       "    </tr>\n",
       "  </thead>\n",
       "  <tbody>\n",
       "    <tr>\n",
       "      <th>0</th>\n",
       "      <td>1701</td>\n",
       "      <td>12</td>\n",
       "      <td>1980</td>\n",
       "      <td>Estados</td>\n",
       "      <td>2</td>\n",
       "    </tr>\n",
       "    <tr>\n",
       "      <th>1</th>\n",
       "      <td>1702</td>\n",
       "      <td>14</td>\n",
       "      <td>1980</td>\n",
       "      <td>Estados</td>\n",
       "      <td>2</td>\n",
       "    </tr>\n",
       "    <tr>\n",
       "      <th>2</th>\n",
       "      <td>2120</td>\n",
       "      <td>51</td>\n",
       "      <td>1980</td>\n",
       "      <td>Estados</td>\n",
       "      <td>4</td>\n",
       "    </tr>\n",
       "    <tr>\n",
       "      <th>3</th>\n",
       "      <td>2356</td>\n",
       "      <td>22</td>\n",
       "      <td>1980</td>\n",
       "      <td>Estados</td>\n",
       "      <td>7</td>\n",
       "    </tr>\n",
       "    <tr>\n",
       "      <th>4</th>\n",
       "      <td>2357</td>\n",
       "      <td>24</td>\n",
       "      <td>1980</td>\n",
       "      <td>Estados</td>\n",
       "      <td>7</td>\n",
       "    </tr>\n",
       "    <tr>\n",
       "      <th>...</th>\n",
       "      <td>...</td>\n",
       "      <td>...</td>\n",
       "      <td>...</td>\n",
       "      <td>...</td>\n",
       "      <td>...</td>\n",
       "    </tr>\n",
       "    <tr>\n",
       "      <th>1145</th>\n",
       "      <td>137851</td>\n",
       "      <td>33</td>\n",
       "      <td>2022</td>\n",
       "      <td>Estados</td>\n",
       "      <td>251</td>\n",
       "    </tr>\n",
       "    <tr>\n",
       "      <th>1146</th>\n",
       "      <td>137852</td>\n",
       "      <td>31</td>\n",
       "      <td>2022</td>\n",
       "      <td>Estados</td>\n",
       "      <td>272</td>\n",
       "    </tr>\n",
       "    <tr>\n",
       "      <th>1147</th>\n",
       "      <td>137853</td>\n",
       "      <td>23</td>\n",
       "      <td>2022</td>\n",
       "      <td>Estados</td>\n",
       "      <td>275</td>\n",
       "    </tr>\n",
       "    <tr>\n",
       "      <th>1148</th>\n",
       "      <td>137855</td>\n",
       "      <td>35</td>\n",
       "      <td>2022</td>\n",
       "      <td>Estados</td>\n",
       "      <td>368</td>\n",
       "    </tr>\n",
       "    <tr>\n",
       "      <th>1149</th>\n",
       "      <td>137856</td>\n",
       "      <td>29</td>\n",
       "      <td>2022</td>\n",
       "      <td>Estados</td>\n",
       "      <td>409</td>\n",
       "    </tr>\n",
       "  </tbody>\n",
       "</table>\n",
       "<p>1150 rows × 5 columns</p>\n",
       "</div>"
      ]
     },
     "metadata": {
      "application/vnd.databricks.v1+output": {
       "addedWidgets": {},
       "arguments": {},
       "data": "<div>\n<style scoped>\n    .dataframe tbody tr th:only-of-type {\n        vertical-align: middle;\n    }\n\n    .dataframe tbody tr th {\n        vertical-align: top;\n    }\n\n    .dataframe thead th {\n        text-align: right;\n    }\n</style>\n<table border=\"1\" class=\"dataframe\">\n  <thead>\n    <tr style=\"text-align: right;\">\n      <th></th>\n      <th>index</th>\n      <th>id</th>\n      <th>Ano</th>\n      <th>Territorio</th>\n      <th>Quantidade_vitimas</th>\n    </tr>\n  </thead>\n  <tbody>\n    <tr>\n      <th>0</th>\n      <td>1701</td>\n      <td>12</td>\n      <td>1980</td>\n      <td>Estados</td>\n      <td>2</td>\n    </tr>\n    <tr>\n      <th>1</th>\n      <td>1702</td>\n      <td>14</td>\n      <td>1980</td>\n      <td>Estados</td>\n      <td>2</td>\n    </tr>\n    <tr>\n      <th>2</th>\n      <td>2120</td>\n      <td>51</td>\n      <td>1980</td>\n      <td>Estados</td>\n      <td>4</td>\n    </tr>\n    <tr>\n      <th>3</th>\n      <td>2356</td>\n      <td>22</td>\n      <td>1980</td>\n      <td>Estados</td>\n      <td>7</td>\n    </tr>\n    <tr>\n      <th>4</th>\n      <td>2357</td>\n      <td>24</td>\n      <td>1980</td>\n      <td>Estados</td>\n      <td>7</td>\n    </tr>\n    <tr>\n      <th>...</th>\n      <td>...</td>\n      <td>...</td>\n      <td>...</td>\n      <td>...</td>\n      <td>...</td>\n    </tr>\n    <tr>\n      <th>1145</th>\n      <td>137851</td>\n      <td>33</td>\n      <td>2022</td>\n      <td>Estados</td>\n      <td>251</td>\n    </tr>\n    <tr>\n      <th>1146</th>\n      <td>137852</td>\n      <td>31</td>\n      <td>2022</td>\n      <td>Estados</td>\n      <td>272</td>\n    </tr>\n    <tr>\n      <th>1147</th>\n      <td>137853</td>\n      <td>23</td>\n      <td>2022</td>\n      <td>Estados</td>\n      <td>275</td>\n    </tr>\n    <tr>\n      <th>1148</th>\n      <td>137855</td>\n      <td>35</td>\n      <td>2022</td>\n      <td>Estados</td>\n      <td>368</td>\n    </tr>\n    <tr>\n      <th>1149</th>\n      <td>137856</td>\n      <td>29</td>\n      <td>2022</td>\n      <td>Estados</td>\n      <td>409</td>\n    </tr>\n  </tbody>\n</table>\n<p>1150 rows × 5 columns</p>\n</div>",
       "datasetInfos": [],
       "metadata": {},
       "removedWidgets": [],
       "textData": null,
       "type": "htmlSandbox"
      }
     },
     "output_type": "display_data"
    }
   ],
   "source": [
    "# Homicidios por Estado - Dataframe com o número de homicídios a nível Estadual.\n",
    "df_estados = df[ df['Territorio'] == 'Estados'].reset_index()\n",
    "df_estados"
   ]
  },
  {
   "cell_type": "code",
   "execution_count": 0,
   "metadata": {
    "application/vnd.databricks.v1+cell": {
     "cellMetadata": {
      "byteLimit": 2048000,
      "rowLimit": 10000
     },
     "inputWidgets": {},
     "nuid": "3c547386-edd5-40ea-b2a1-c6bd2de8070a",
     "showTitle": false,
     "title": ""
    }
   },
   "outputs": [],
   "source": [
    "# Aqui foi necessário converter o tipo da coluna id para poder realizar o Merge\n",
    "df_estados['id'] = df_estados['id'].astype(str)\n",
    "ibge_estados['id'] =ibge_estados['id'].astype(str)\n",
    "\n"
   ]
  },
  {
   "cell_type": "markdown",
   "metadata": {
    "application/vnd.databricks.v1+cell": {
     "cellMetadata": {},
     "inputWidgets": {},
     "nuid": "dcafccb6-596f-4da8-9504-6a862512a967",
     "showTitle": false,
     "title": ""
    }
   },
   "source": [
    "### Realizando o Merge do Dataframe do IPEA com IBGE"
   ]
  },
  {
   "cell_type": "code",
   "execution_count": 0,
   "metadata": {
    "application/vnd.databricks.v1+cell": {
     "cellMetadata": {
      "byteLimit": 2048000,
      "rowLimit": 10000
     },
     "inputWidgets": {},
     "nuid": "6ee9513d-d8db-4eac-9d65-935df2edae0c",
     "showTitle": false,
     "title": ""
    }
   },
   "outputs": [],
   "source": [
    "\n",
    "df_estados = pd.merge(df_estados, ibge_estados[['id', 'sigla', 'nome']], on= 'id', how='left').drop(columns='index')"
   ]
  },
  {
   "cell_type": "code",
   "execution_count": 0,
   "metadata": {
    "application/vnd.databricks.v1+cell": {
     "cellMetadata": {
      "byteLimit": 2048000,
      "rowLimit": 10000
     },
     "inputWidgets": {},
     "nuid": "cb9c677f-0a04-49a0-88e9-e44df9e5e8ed",
     "showTitle": false,
     "title": ""
    }
   },
   "outputs": [],
   "source": [
    "# Ordenar as colunas\n",
    "\n",
    "df_estados.reset_index()\n",
    "ordem = ['id', 'Ano', 'Territorio', 'sigla', 'nome', 'Quantidade_vitimas']\n",
    "df_estados = df_estados[ordem]"
   ]
  },
  {
   "cell_type": "markdown",
   "metadata": {
    "application/vnd.databricks.v1+cell": {
     "cellMetadata": {},
     "inputWidgets": {},
     "nuid": "b4bf2c12-e8d4-40ed-b83c-327bc0e14767",
     "showTitle": false,
     "title": ""
    }
   },
   "source": [
    "### Dataframe final a nível de Estados"
   ]
  },
  {
   "cell_type": "code",
   "execution_count": 0,
   "metadata": {
    "application/vnd.databricks.v1+cell": {
     "cellMetadata": {
      "byteLimit": 2048000,
      "rowLimit": 10000
     },
     "inputWidgets": {},
     "nuid": "6844b396-b8d3-48bc-bcad-b8c95a87d6da",
     "showTitle": false,
     "title": ""
    }
   },
   "outputs": [
    {
     "output_type": "display_data",
     "data": {
      "text/html": [
       "<div>\n",
       "<style scoped>\n",
       "    .dataframe tbody tr th:only-of-type {\n",
       "        vertical-align: middle;\n",
       "    }\n",
       "\n",
       "    .dataframe tbody tr th {\n",
       "        vertical-align: top;\n",
       "    }\n",
       "\n",
       "    .dataframe thead th {\n",
       "        text-align: right;\n",
       "    }\n",
       "</style>\n",
       "<table border=\"1\" class=\"dataframe\">\n",
       "  <thead>\n",
       "    <tr style=\"text-align: right;\">\n",
       "      <th></th>\n",
       "      <th>id</th>\n",
       "      <th>Ano</th>\n",
       "      <th>Territorio</th>\n",
       "      <th>sigla</th>\n",
       "      <th>nome</th>\n",
       "      <th>Quantidade_vitimas</th>\n",
       "    </tr>\n",
       "  </thead>\n",
       "  <tbody>\n",
       "    <tr>\n",
       "      <th>0</th>\n",
       "      <td>12</td>\n",
       "      <td>1980</td>\n",
       "      <td>Estados</td>\n",
       "      <td>AC</td>\n",
       "      <td>Acre</td>\n",
       "      <td>2</td>\n",
       "    </tr>\n",
       "    <tr>\n",
       "      <th>1</th>\n",
       "      <td>14</td>\n",
       "      <td>1980</td>\n",
       "      <td>Estados</td>\n",
       "      <td>RR</td>\n",
       "      <td>Roraima</td>\n",
       "      <td>2</td>\n",
       "    </tr>\n",
       "    <tr>\n",
       "      <th>2</th>\n",
       "      <td>51</td>\n",
       "      <td>1980</td>\n",
       "      <td>Estados</td>\n",
       "      <td>MT</td>\n",
       "      <td>Mato Grosso</td>\n",
       "      <td>4</td>\n",
       "    </tr>\n",
       "    <tr>\n",
       "      <th>3</th>\n",
       "      <td>22</td>\n",
       "      <td>1980</td>\n",
       "      <td>Estados</td>\n",
       "      <td>PI</td>\n",
       "      <td>Piauí</td>\n",
       "      <td>7</td>\n",
       "    </tr>\n",
       "    <tr>\n",
       "      <th>4</th>\n",
       "      <td>24</td>\n",
       "      <td>1980</td>\n",
       "      <td>Estados</td>\n",
       "      <td>RN</td>\n",
       "      <td>Rio Grande do Norte</td>\n",
       "      <td>7</td>\n",
       "    </tr>\n",
       "    <tr>\n",
       "      <th>...</th>\n",
       "      <td>...</td>\n",
       "      <td>...</td>\n",
       "      <td>...</td>\n",
       "      <td>...</td>\n",
       "      <td>...</td>\n",
       "      <td>...</td>\n",
       "    </tr>\n",
       "    <tr>\n",
       "      <th>1145</th>\n",
       "      <td>33</td>\n",
       "      <td>2022</td>\n",
       "      <td>Estados</td>\n",
       "      <td>RJ</td>\n",
       "      <td>Rio de Janeiro</td>\n",
       "      <td>251</td>\n",
       "    </tr>\n",
       "    <tr>\n",
       "      <th>1146</th>\n",
       "      <td>31</td>\n",
       "      <td>2022</td>\n",
       "      <td>Estados</td>\n",
       "      <td>MG</td>\n",
       "      <td>Minas Gerais</td>\n",
       "      <td>272</td>\n",
       "    </tr>\n",
       "    <tr>\n",
       "      <th>1147</th>\n",
       "      <td>23</td>\n",
       "      <td>2022</td>\n",
       "      <td>Estados</td>\n",
       "      <td>CE</td>\n",
       "      <td>Ceará</td>\n",
       "      <td>275</td>\n",
       "    </tr>\n",
       "    <tr>\n",
       "      <th>1148</th>\n",
       "      <td>35</td>\n",
       "      <td>2022</td>\n",
       "      <td>Estados</td>\n",
       "      <td>SP</td>\n",
       "      <td>São Paulo</td>\n",
       "      <td>368</td>\n",
       "    </tr>\n",
       "    <tr>\n",
       "      <th>1149</th>\n",
       "      <td>29</td>\n",
       "      <td>2022</td>\n",
       "      <td>Estados</td>\n",
       "      <td>BA</td>\n",
       "      <td>Bahia</td>\n",
       "      <td>409</td>\n",
       "    </tr>\n",
       "  </tbody>\n",
       "</table>\n",
       "<p>1150 rows × 6 columns</p>\n",
       "</div>"
      ]
     },
     "metadata": {
      "application/vnd.databricks.v1+output": {
       "addedWidgets": {},
       "arguments": {},
       "data": "<div>\n<style scoped>\n    .dataframe tbody tr th:only-of-type {\n        vertical-align: middle;\n    }\n\n    .dataframe tbody tr th {\n        vertical-align: top;\n    }\n\n    .dataframe thead th {\n        text-align: right;\n    }\n</style>\n<table border=\"1\" class=\"dataframe\">\n  <thead>\n    <tr style=\"text-align: right;\">\n      <th></th>\n      <th>id</th>\n      <th>Ano</th>\n      <th>Territorio</th>\n      <th>sigla</th>\n      <th>nome</th>\n      <th>Quantidade_vitimas</th>\n    </tr>\n  </thead>\n  <tbody>\n    <tr>\n      <th>0</th>\n      <td>12</td>\n      <td>1980</td>\n      <td>Estados</td>\n      <td>AC</td>\n      <td>Acre</td>\n      <td>2</td>\n    </tr>\n    <tr>\n      <th>1</th>\n      <td>14</td>\n      <td>1980</td>\n      <td>Estados</td>\n      <td>RR</td>\n      <td>Roraima</td>\n      <td>2</td>\n    </tr>\n    <tr>\n      <th>2</th>\n      <td>51</td>\n      <td>1980</td>\n      <td>Estados</td>\n      <td>MT</td>\n      <td>Mato Grosso</td>\n      <td>4</td>\n    </tr>\n    <tr>\n      <th>3</th>\n      <td>22</td>\n      <td>1980</td>\n      <td>Estados</td>\n      <td>PI</td>\n      <td>Piauí</td>\n      <td>7</td>\n    </tr>\n    <tr>\n      <th>4</th>\n      <td>24</td>\n      <td>1980</td>\n      <td>Estados</td>\n      <td>RN</td>\n      <td>Rio Grande do Norte</td>\n      <td>7</td>\n    </tr>\n    <tr>\n      <th>...</th>\n      <td>...</td>\n      <td>...</td>\n      <td>...</td>\n      <td>...</td>\n      <td>...</td>\n      <td>...</td>\n    </tr>\n    <tr>\n      <th>1145</th>\n      <td>33</td>\n      <td>2022</td>\n      <td>Estados</td>\n      <td>RJ</td>\n      <td>Rio de Janeiro</td>\n      <td>251</td>\n    </tr>\n    <tr>\n      <th>1146</th>\n      <td>31</td>\n      <td>2022</td>\n      <td>Estados</td>\n      <td>MG</td>\n      <td>Minas Gerais</td>\n      <td>272</td>\n    </tr>\n    <tr>\n      <th>1147</th>\n      <td>23</td>\n      <td>2022</td>\n      <td>Estados</td>\n      <td>CE</td>\n      <td>Ceará</td>\n      <td>275</td>\n    </tr>\n    <tr>\n      <th>1148</th>\n      <td>35</td>\n      <td>2022</td>\n      <td>Estados</td>\n      <td>SP</td>\n      <td>São Paulo</td>\n      <td>368</td>\n    </tr>\n    <tr>\n      <th>1149</th>\n      <td>29</td>\n      <td>2022</td>\n      <td>Estados</td>\n      <td>BA</td>\n      <td>Bahia</td>\n      <td>409</td>\n    </tr>\n  </tbody>\n</table>\n<p>1150 rows × 6 columns</p>\n</div>",
       "datasetInfos": [],
       "metadata": {},
       "removedWidgets": [],
       "textData": null,
       "type": "htmlSandbox"
      }
     },
     "output_type": "display_data"
    }
   ],
   "source": [
    "df_estados"
   ]
  },
  {
   "cell_type": "markdown",
   "metadata": {
    "application/vnd.databricks.v1+cell": {
     "cellMetadata": {},
     "inputWidgets": {},
     "nuid": "5a7da2cb-1a6b-45e3-af34-c862d631ae73",
     "showTitle": false,
     "title": ""
    }
   },
   "source": [
    "### Dataframe de Feminicídios a nível de Municípios"
   ]
  },
  {
   "cell_type": "code",
   "execution_count": 0,
   "metadata": {
    "application/vnd.databricks.v1+cell": {
     "cellMetadata": {
      "byteLimit": 2048000,
      "rowLimit": 10000
     },
     "inputWidgets": {},
     "nuid": "19e2dd90-65e0-4d4d-af74-e4e6b88d7aea",
     "showTitle": false,
     "title": ""
    }
   },
   "outputs": [
    {
     "output_type": "display_data",
     "data": {
      "text/html": [
       "<div>\n",
       "<style scoped>\n",
       "    .dataframe tbody tr th:only-of-type {\n",
       "        vertical-align: middle;\n",
       "    }\n",
       "\n",
       "    .dataframe tbody tr th {\n",
       "        vertical-align: top;\n",
       "    }\n",
       "\n",
       "    .dataframe thead th {\n",
       "        text-align: right;\n",
       "    }\n",
       "</style>\n",
       "<table border=\"1\" class=\"dataframe\">\n",
       "  <thead>\n",
       "    <tr style=\"text-align: right;\">\n",
       "      <th></th>\n",
       "      <th>id</th>\n",
       "      <th>Ano</th>\n",
       "      <th>Territorio</th>\n",
       "      <th>Quantidade_vitimas</th>\n",
       "    </tr>\n",
       "  </thead>\n",
       "  <tbody>\n",
       "    <tr>\n",
       "      <th>1077</th>\n",
       "      <td>1100023</td>\n",
       "      <td>1980</td>\n",
       "      <td>Municípios</td>\n",
       "      <td>1</td>\n",
       "    </tr>\n",
       "    <tr>\n",
       "      <th>1078</th>\n",
       "      <td>1100106</td>\n",
       "      <td>1980</td>\n",
       "      <td>Municípios</td>\n",
       "      <td>1</td>\n",
       "    </tr>\n",
       "    <tr>\n",
       "      <th>1079</th>\n",
       "      <td>1100304</td>\n",
       "      <td>1980</td>\n",
       "      <td>Municípios</td>\n",
       "      <td>1</td>\n",
       "    </tr>\n",
       "    <tr>\n",
       "      <th>1080</th>\n",
       "      <td>1301209</td>\n",
       "      <td>1980</td>\n",
       "      <td>Municípios</td>\n",
       "      <td>1</td>\n",
       "    </tr>\n",
       "    <tr>\n",
       "      <th>1081</th>\n",
       "      <td>1500602</td>\n",
       "      <td>1980</td>\n",
       "      <td>Municípios</td>\n",
       "      <td>1</td>\n",
       "    </tr>\n",
       "    <tr>\n",
       "      <th>...</th>\n",
       "      <td>...</td>\n",
       "      <td>...</td>\n",
       "      <td>...</td>\n",
       "      <td>...</td>\n",
       "    </tr>\n",
       "    <tr>\n",
       "      <th>137794</th>\n",
       "      <td>4314902</td>\n",
       "      <td>2022</td>\n",
       "      <td>Municípios</td>\n",
       "      <td>49</td>\n",
       "    </tr>\n",
       "    <tr>\n",
       "      <th>137812</th>\n",
       "      <td>3304557</td>\n",
       "      <td>2022</td>\n",
       "      <td>Municípios</td>\n",
       "      <td>69</td>\n",
       "    </tr>\n",
       "    <tr>\n",
       "      <th>137815</th>\n",
       "      <td>1302603</td>\n",
       "      <td>2022</td>\n",
       "      <td>Municípios</td>\n",
       "      <td>72</td>\n",
       "    </tr>\n",
       "    <tr>\n",
       "      <th>137819</th>\n",
       "      <td>2927408</td>\n",
       "      <td>2022</td>\n",
       "      <td>Municípios</td>\n",
       "      <td>79</td>\n",
       "    </tr>\n",
       "    <tr>\n",
       "      <th>137823</th>\n",
       "      <td>2304400</td>\n",
       "      <td>2022</td>\n",
       "      <td>Municípios</td>\n",
       "      <td>85</td>\n",
       "    </tr>\n",
       "  </tbody>\n",
       "</table>\n",
       "<p>47537 rows × 4 columns</p>\n",
       "</div>"
      ]
     },
     "metadata": {
      "application/vnd.databricks.v1+output": {
       "addedWidgets": {},
       "arguments": {},
       "data": "<div>\n<style scoped>\n    .dataframe tbody tr th:only-of-type {\n        vertical-align: middle;\n    }\n\n    .dataframe tbody tr th {\n        vertical-align: top;\n    }\n\n    .dataframe thead th {\n        text-align: right;\n    }\n</style>\n<table border=\"1\" class=\"dataframe\">\n  <thead>\n    <tr style=\"text-align: right;\">\n      <th></th>\n      <th>id</th>\n      <th>Ano</th>\n      <th>Territorio</th>\n      <th>Quantidade_vitimas</th>\n    </tr>\n  </thead>\n  <tbody>\n    <tr>\n      <th>1077</th>\n      <td>1100023</td>\n      <td>1980</td>\n      <td>Municípios</td>\n      <td>1</td>\n    </tr>\n    <tr>\n      <th>1078</th>\n      <td>1100106</td>\n      <td>1980</td>\n      <td>Municípios</td>\n      <td>1</td>\n    </tr>\n    <tr>\n      <th>1079</th>\n      <td>1100304</td>\n      <td>1980</td>\n      <td>Municípios</td>\n      <td>1</td>\n    </tr>\n    <tr>\n      <th>1080</th>\n      <td>1301209</td>\n      <td>1980</td>\n      <td>Municípios</td>\n      <td>1</td>\n    </tr>\n    <tr>\n      <th>1081</th>\n      <td>1500602</td>\n      <td>1980</td>\n      <td>Municípios</td>\n      <td>1</td>\n    </tr>\n    <tr>\n      <th>...</th>\n      <td>...</td>\n      <td>...</td>\n      <td>...</td>\n      <td>...</td>\n    </tr>\n    <tr>\n      <th>137794</th>\n      <td>4314902</td>\n      <td>2022</td>\n      <td>Municípios</td>\n      <td>49</td>\n    </tr>\n    <tr>\n      <th>137812</th>\n      <td>3304557</td>\n      <td>2022</td>\n      <td>Municípios</td>\n      <td>69</td>\n    </tr>\n    <tr>\n      <th>137815</th>\n      <td>1302603</td>\n      <td>2022</td>\n      <td>Municípios</td>\n      <td>72</td>\n    </tr>\n    <tr>\n      <th>137819</th>\n      <td>2927408</td>\n      <td>2022</td>\n      <td>Municípios</td>\n      <td>79</td>\n    </tr>\n    <tr>\n      <th>137823</th>\n      <td>2304400</td>\n      <td>2022</td>\n      <td>Municípios</td>\n      <td>85</td>\n    </tr>\n  </tbody>\n</table>\n<p>47537 rows × 4 columns</p>\n</div>",
       "datasetInfos": [],
       "metadata": {},
       "removedWidgets": [],
       "textData": null,
       "type": "htmlSandbox"
      }
     },
     "output_type": "display_data"
    }
   ],
   "source": [
    "# Homicidios por Município - Dataframe com o número de homicídios a nível Municipal.\n",
    "df_municipios = df[ df['Territorio'] == 'Municípios' ]\n",
    "df_municipios"
   ]
  },
  {
   "cell_type": "markdown",
   "metadata": {
    "application/vnd.databricks.v1+cell": {
     "cellMetadata": {},
     "inputWidgets": {},
     "nuid": "4a774e0b-d234-424e-9b18-c2b220e3deae",
     "showTitle": false,
     "title": ""
    }
   },
   "source": [
    "## LOAD"
   ]
  },
  {
   "cell_type": "markdown",
   "metadata": {
    "application/vnd.databricks.v1+cell": {
     "cellMetadata": {},
     "inputWidgets": {},
     "nuid": "29303c63-4888-4588-8790-7b0f75908c3f",
     "showTitle": false,
     "title": ""
    }
   },
   "source": [
    "Utilizando PySpark para salvar as tabelas em formato delta."
   ]
  },
  {
   "cell_type": "code",
   "execution_count": 0,
   "metadata": {
    "application/vnd.databricks.v1+cell": {
     "cellMetadata": {
      "byteLimit": 2048000,
      "rowLimit": 10000
     },
     "inputWidgets": {},
     "nuid": "b0498d80-ac05-4128-aaa7-dee65349c074",
     "showTitle": false,
     "title": ""
    }
   },
   "outputs": [
    {
     "output_type": "display_data",
     "data": {
      "text/html": [
       "<div>\n",
       "<style scoped>\n",
       "    .dataframe tbody tr th:only-of-type {\n",
       "        vertical-align: middle;\n",
       "    }\n",
       "\n",
       "    .dataframe tbody tr th {\n",
       "        vertical-align: top;\n",
       "    }\n",
       "\n",
       "    .dataframe thead th {\n",
       "        text-align: right;\n",
       "    }\n",
       "</style>\n",
       "<table border=\"1\" class=\"dataframe\">\n",
       "  <thead>\n",
       "    <tr style=\"text-align: right;\">\n",
       "      <th></th>\n",
       "      <th>id</th>\n",
       "      <th>Ano</th>\n",
       "      <th>Territorio</th>\n",
       "      <th>Quantidade_vitimas</th>\n",
       "    </tr>\n",
       "  </thead>\n",
       "  <tbody>\n",
       "    <tr>\n",
       "      <th>1077</th>\n",
       "      <td>1100023</td>\n",
       "      <td>1980</td>\n",
       "      <td>Municípios</td>\n",
       "      <td>1</td>\n",
       "    </tr>\n",
       "    <tr>\n",
       "      <th>1078</th>\n",
       "      <td>1100106</td>\n",
       "      <td>1980</td>\n",
       "      <td>Municípios</td>\n",
       "      <td>1</td>\n",
       "    </tr>\n",
       "    <tr>\n",
       "      <th>1079</th>\n",
       "      <td>1100304</td>\n",
       "      <td>1980</td>\n",
       "      <td>Municípios</td>\n",
       "      <td>1</td>\n",
       "    </tr>\n",
       "    <tr>\n",
       "      <th>1080</th>\n",
       "      <td>1301209</td>\n",
       "      <td>1980</td>\n",
       "      <td>Municípios</td>\n",
       "      <td>1</td>\n",
       "    </tr>\n",
       "    <tr>\n",
       "      <th>1081</th>\n",
       "      <td>1500602</td>\n",
       "      <td>1980</td>\n",
       "      <td>Municípios</td>\n",
       "      <td>1</td>\n",
       "    </tr>\n",
       "    <tr>\n",
       "      <th>...</th>\n",
       "      <td>...</td>\n",
       "      <td>...</td>\n",
       "      <td>...</td>\n",
       "      <td>...</td>\n",
       "    </tr>\n",
       "    <tr>\n",
       "      <th>137794</th>\n",
       "      <td>4314902</td>\n",
       "      <td>2022</td>\n",
       "      <td>Municípios</td>\n",
       "      <td>49</td>\n",
       "    </tr>\n",
       "    <tr>\n",
       "      <th>137812</th>\n",
       "      <td>3304557</td>\n",
       "      <td>2022</td>\n",
       "      <td>Municípios</td>\n",
       "      <td>69</td>\n",
       "    </tr>\n",
       "    <tr>\n",
       "      <th>137815</th>\n",
       "      <td>1302603</td>\n",
       "      <td>2022</td>\n",
       "      <td>Municípios</td>\n",
       "      <td>72</td>\n",
       "    </tr>\n",
       "    <tr>\n",
       "      <th>137819</th>\n",
       "      <td>2927408</td>\n",
       "      <td>2022</td>\n",
       "      <td>Municípios</td>\n",
       "      <td>79</td>\n",
       "    </tr>\n",
       "    <tr>\n",
       "      <th>137823</th>\n",
       "      <td>2304400</td>\n",
       "      <td>2022</td>\n",
       "      <td>Municípios</td>\n",
       "      <td>85</td>\n",
       "    </tr>\n",
       "  </tbody>\n",
       "</table>\n",
       "<p>47537 rows × 4 columns</p>\n",
       "</div>"
      ]
     },
     "metadata": {
      "application/vnd.databricks.v1+output": {
       "addedWidgets": {},
       "arguments": {},
       "data": "<div>\n<style scoped>\n    .dataframe tbody tr th:only-of-type {\n        vertical-align: middle;\n    }\n\n    .dataframe tbody tr th {\n        vertical-align: top;\n    }\n\n    .dataframe thead th {\n        text-align: right;\n    }\n</style>\n<table border=\"1\" class=\"dataframe\">\n  <thead>\n    <tr style=\"text-align: right;\">\n      <th></th>\n      <th>id</th>\n      <th>Ano</th>\n      <th>Territorio</th>\n      <th>Quantidade_vitimas</th>\n    </tr>\n  </thead>\n  <tbody>\n    <tr>\n      <th>1077</th>\n      <td>1100023</td>\n      <td>1980</td>\n      <td>Municípios</td>\n      <td>1</td>\n    </tr>\n    <tr>\n      <th>1078</th>\n      <td>1100106</td>\n      <td>1980</td>\n      <td>Municípios</td>\n      <td>1</td>\n    </tr>\n    <tr>\n      <th>1079</th>\n      <td>1100304</td>\n      <td>1980</td>\n      <td>Municípios</td>\n      <td>1</td>\n    </tr>\n    <tr>\n      <th>1080</th>\n      <td>1301209</td>\n      <td>1980</td>\n      <td>Municípios</td>\n      <td>1</td>\n    </tr>\n    <tr>\n      <th>1081</th>\n      <td>1500602</td>\n      <td>1980</td>\n      <td>Municípios</td>\n      <td>1</td>\n    </tr>\n    <tr>\n      <th>...</th>\n      <td>...</td>\n      <td>...</td>\n      <td>...</td>\n      <td>...</td>\n    </tr>\n    <tr>\n      <th>137794</th>\n      <td>4314902</td>\n      <td>2022</td>\n      <td>Municípios</td>\n      <td>49</td>\n    </tr>\n    <tr>\n      <th>137812</th>\n      <td>3304557</td>\n      <td>2022</td>\n      <td>Municípios</td>\n      <td>69</td>\n    </tr>\n    <tr>\n      <th>137815</th>\n      <td>1302603</td>\n      <td>2022</td>\n      <td>Municípios</td>\n      <td>72</td>\n    </tr>\n    <tr>\n      <th>137819</th>\n      <td>2927408</td>\n      <td>2022</td>\n      <td>Municípios</td>\n      <td>79</td>\n    </tr>\n    <tr>\n      <th>137823</th>\n      <td>2304400</td>\n      <td>2022</td>\n      <td>Municípios</td>\n      <td>85</td>\n    </tr>\n  </tbody>\n</table>\n<p>47537 rows × 4 columns</p>\n</div>",
       "datasetInfos": [],
       "metadata": {},
       "removedWidgets": [],
       "textData": null,
       "type": "htmlSandbox"
      }
     },
     "output_type": "display_data"
    }
   ],
   "source": [
    "df_municipios"
   ]
  },
  {
   "cell_type": "code",
   "execution_count": 0,
   "metadata": {
    "application/vnd.databricks.v1+cell": {
     "cellMetadata": {
      "byteLimit": 2048000,
      "rowLimit": 10000
     },
     "inputWidgets": {},
     "nuid": "9e210654-53c1-4b45-973b-ee75aa89ff66",
     "showTitle": false,
     "title": ""
    }
   },
   "outputs": [],
   "source": [
    "import pyspark.pandas as ps\n",
    "\n",
    "# Convertendo os dataframes Pandas para df spark\n",
    "feminicidios_nacional = ps.DataFrame(df_brasil)\n",
    "feminicidios_estados = ps.DataFrame(df_estados)\n",
    "feminicidios_municipios = ps.DataFrame(df_municipios)"
   ]
  },
  {
   "cell_type": "markdown",
   "metadata": {
    "application/vnd.databricks.v1+cell": {
     "cellMetadata": {},
     "inputWidgets": {},
     "nuid": "63c9ea99-d862-43dd-be6e-8315cbdcc0c0",
     "showTitle": false,
     "title": ""
    }
   },
   "source": [
    "### Salvando as Tabelas no Catalog do Databriks"
   ]
  },
  {
   "cell_type": "code",
   "execution_count": 0,
   "metadata": {
    "application/vnd.databricks.v1+cell": {
     "cellMetadata": {
      "byteLimit": 2048000,
      "rowLimit": 10000
     },
     "inputWidgets": {},
     "nuid": "5ec2dc49-0295-4d4c-af83-7f70d07dcd3e",
     "showTitle": false,
     "title": ""
    }
   },
   "outputs": [],
   "source": [
    "\n",
    "feminicidios_nacional.to_spark().write.format('delta').mode('overwrite').option('overwriteSchema', 'true').saveAsTable('femicide_brasil')\n",
    "\n",
    "feminicidios_estados.to_spark().write.format('delta').mode('overwrite').option('overwriteSchema', 'true').saveAsTable('femicide_states')\n",
    "\n",
    "feminicidios_municipios.to_spark().write.format('delta').mode('overwrite').option('overwriteSchema', 'true').saveAsTable('femicide_municipality')"
   ]
  },
  {
   "cell_type": "markdown",
   "metadata": {
    "application/vnd.databricks.v1+cell": {
     "cellMetadata": {},
     "inputWidgets": {},
     "nuid": "8f54c801-0c31-4d0c-b68e-9d4a1edf9bcd",
     "showTitle": false,
     "title": ""
    }
   },
   "source": [
    "### Realizando Consultas nas Tabelas Criadas com SQL"
   ]
  },
  {
   "cell_type": "code",
   "execution_count": 0,
   "metadata": {
    "application/vnd.databricks.v1+cell": {
     "cellMetadata": {
      "byteLimit": 2048000,
      "implicitDf": true,
      "rowLimit": 10000
     },
     "inputWidgets": {},
     "nuid": "6a75a299-1c9b-41a8-a9d7-93450d1b8cba",
     "showTitle": false,
     "title": ""
    }
   },
   "outputs": [
    {
     "output_type": "display_data",
     "data": {
      "text/html": [
       "<style scoped>\n",
       "  .table-result-container {\n",
       "    max-height: 300px;\n",
       "    overflow: auto;\n",
       "  }\n",
       "  table, th, td {\n",
       "    border: 1px solid black;\n",
       "    border-collapse: collapse;\n",
       "  }\n",
       "  th, td {\n",
       "    padding: 5px;\n",
       "  }\n",
       "  th {\n",
       "    text-align: left;\n",
       "  }\n",
       "</style><div class='table-result-container'><table class='table-result'><thead style='background-color: white'><tr><th>id</th><th>Ano</th><th>Territorio</th><th>sigla</th><th>nome</th><th>Quantidade_vitimas</th></tr></thead><tbody><tr><td>23</td><td>2002</td><td>Estados</td><td>CE</td><td>Ceará</td><td>124</td></tr><tr><td>23</td><td>2003</td><td>Estados</td><td>CE</td><td>Ceará</td><td>111</td></tr><tr><td>23</td><td>2004</td><td>Estados</td><td>CE</td><td>Ceará</td><td>122</td></tr><tr><td>23</td><td>2005</td><td>Estados</td><td>CE</td><td>Ceará</td><td>145</td></tr><tr><td>23</td><td>2006</td><td>Estados</td><td>CE</td><td>Ceará</td><td>135</td></tr><tr><td>23</td><td>2007</td><td>Estados</td><td>CE</td><td>Ceará</td><td>131</td></tr><tr><td>23</td><td>2008</td><td>Estados</td><td>CE</td><td>Ceará</td><td>122</td></tr><tr><td>23</td><td>2009</td><td>Estados</td><td>CE</td><td>Ceará</td><td>144</td></tr><tr><td>23</td><td>2010</td><td>Estados</td><td>CE</td><td>Ceará</td><td>173</td></tr><tr><td>23</td><td>2011</td><td>Estados</td><td>CE</td><td>Ceará</td><td>189</td></tr><tr><td>23</td><td>2012</td><td>Estados</td><td>CE</td><td>Ceará</td><td>219</td></tr><tr><td>23</td><td>2013</td><td>Estados</td><td>CE</td><td>Ceará</td><td>278</td></tr><tr><td>23</td><td>2014</td><td>Estados</td><td>CE</td><td>Ceará</td><td>285</td></tr><tr><td>23</td><td>2015</td><td>Estados</td><td>CE</td><td>Ceará</td><td>254</td></tr><tr><td>23</td><td>2016</td><td>Estados</td><td>CE</td><td>Ceará</td><td>218</td></tr><tr><td>23</td><td>2017</td><td>Estados</td><td>CE</td><td>Ceará</td><td>374</td></tr><tr><td>23</td><td>2018</td><td>Estados</td><td>CE</td><td>Ceará</td><td>475</td></tr><tr><td>23</td><td>2019</td><td>Estados</td><td>CE</td><td>Ceará</td><td>221</td></tr><tr><td>23</td><td>2020</td><td>Estados</td><td>CE</td><td>Ceará</td><td>319</td></tr><tr><td>23</td><td>2021</td><td>Estados</td><td>CE</td><td>Ceará</td><td>352</td></tr><tr><td>23</td><td>2022</td><td>Estados</td><td>CE</td><td>Ceará</td><td>275</td></tr><tr><td>23</td><td>1980</td><td>Estados</td><td>CE</td><td>Ceará</td><td>31</td></tr><tr><td>23</td><td>1981</td><td>Estados</td><td>CE</td><td>Ceará</td><td>42</td></tr><tr><td>23</td><td>1982</td><td>Estados</td><td>CE</td><td>Ceará</td><td>39</td></tr><tr><td>23</td><td>1983</td><td>Estados</td><td>CE</td><td>Ceará</td><td>48</td></tr><tr><td>23</td><td>1984</td><td>Estados</td><td>CE</td><td>Ceará</td><td>40</td></tr><tr><td>23</td><td>1985</td><td>Estados</td><td>CE</td><td>Ceará</td><td>41</td></tr><tr><td>23</td><td>1986</td><td>Estados</td><td>CE</td><td>Ceará</td><td>53</td></tr><tr><td>23</td><td>1987</td><td>Estados</td><td>CE</td><td>Ceará</td><td>40</td></tr><tr><td>23</td><td>1988</td><td>Estados</td><td>CE</td><td>Ceará</td><td>35</td></tr><tr><td>23</td><td>1989</td><td>Estados</td><td>CE</td><td>Ceará</td><td>46</td></tr><tr><td>23</td><td>1990</td><td>Estados</td><td>CE</td><td>Ceará</td><td>45</td></tr><tr><td>23</td><td>1991</td><td>Estados</td><td>CE</td><td>Ceará</td><td>53</td></tr><tr><td>23</td><td>1992</td><td>Estados</td><td>CE</td><td>Ceará</td><td>42</td></tr><tr><td>23</td><td>1993</td><td>Estados</td><td>CE</td><td>Ceará</td><td>62</td></tr><tr><td>23</td><td>1994</td><td>Estados</td><td>CE</td><td>Ceará</td><td>58</td></tr><tr><td>23</td><td>1995</td><td>Estados</td><td>CE</td><td>Ceará</td><td>54</td></tr><tr><td>23</td><td>1996</td><td>Estados</td><td>CE</td><td>Ceará</td><td>85</td></tr><tr><td>23</td><td>1997</td><td>Estados</td><td>CE</td><td>Ceará</td><td>84</td></tr><tr><td>23</td><td>1998</td><td>Estados</td><td>CE</td><td>Ceará</td><td>56</td></tr><tr><td>23</td><td>1999</td><td>Estados</td><td>CE</td><td>Ceará</td><td>93</td></tr><tr><td>23</td><td>2000</td><td>Estados</td><td>CE</td><td>Ceará</td><td>107</td></tr><tr><td>23</td><td>2001</td><td>Estados</td><td>CE</td><td>Ceará</td><td>115</td></tr></tbody></table></div>"
      ]
     },
     "metadata": {
      "application/vnd.databricks.v1+output": {
       "addedWidgets": {},
       "aggData": [],
       "aggError": "",
       "aggOverflow": false,
       "aggSchema": [],
       "aggSeriesLimitReached": false,
       "aggType": "",
       "arguments": {},
       "columnCustomDisplayInfos": {},
       "data": [
        [
         "23",
         2002,
         "Estados",
         "CE",
         "Ceará",
         124
        ],
        [
         "23",
         2003,
         "Estados",
         "CE",
         "Ceará",
         111
        ],
        [
         "23",
         2004,
         "Estados",
         "CE",
         "Ceará",
         122
        ],
        [
         "23",
         2005,
         "Estados",
         "CE",
         "Ceará",
         145
        ],
        [
         "23",
         2006,
         "Estados",
         "CE",
         "Ceará",
         135
        ],
        [
         "23",
         2007,
         "Estados",
         "CE",
         "Ceará",
         131
        ],
        [
         "23",
         2008,
         "Estados",
         "CE",
         "Ceará",
         122
        ],
        [
         "23",
         2009,
         "Estados",
         "CE",
         "Ceará",
         144
        ],
        [
         "23",
         2010,
         "Estados",
         "CE",
         "Ceará",
         173
        ],
        [
         "23",
         2011,
         "Estados",
         "CE",
         "Ceará",
         189
        ],
        [
         "23",
         2012,
         "Estados",
         "CE",
         "Ceará",
         219
        ],
        [
         "23",
         2013,
         "Estados",
         "CE",
         "Ceará",
         278
        ],
        [
         "23",
         2014,
         "Estados",
         "CE",
         "Ceará",
         285
        ],
        [
         "23",
         2015,
         "Estados",
         "CE",
         "Ceará",
         254
        ],
        [
         "23",
         2016,
         "Estados",
         "CE",
         "Ceará",
         218
        ],
        [
         "23",
         2017,
         "Estados",
         "CE",
         "Ceará",
         374
        ],
        [
         "23",
         2018,
         "Estados",
         "CE",
         "Ceará",
         475
        ],
        [
         "23",
         2019,
         "Estados",
         "CE",
         "Ceará",
         221
        ],
        [
         "23",
         2020,
         "Estados",
         "CE",
         "Ceará",
         319
        ],
        [
         "23",
         2021,
         "Estados",
         "CE",
         "Ceará",
         352
        ],
        [
         "23",
         2022,
         "Estados",
         "CE",
         "Ceará",
         275
        ],
        [
         "23",
         1980,
         "Estados",
         "CE",
         "Ceará",
         31
        ],
        [
         "23",
         1981,
         "Estados",
         "CE",
         "Ceará",
         42
        ],
        [
         "23",
         1982,
         "Estados",
         "CE",
         "Ceará",
         39
        ],
        [
         "23",
         1983,
         "Estados",
         "CE",
         "Ceará",
         48
        ],
        [
         "23",
         1984,
         "Estados",
         "CE",
         "Ceará",
         40
        ],
        [
         "23",
         1985,
         "Estados",
         "CE",
         "Ceará",
         41
        ],
        [
         "23",
         1986,
         "Estados",
         "CE",
         "Ceará",
         53
        ],
        [
         "23",
         1987,
         "Estados",
         "CE",
         "Ceará",
         40
        ],
        [
         "23",
         1988,
         "Estados",
         "CE",
         "Ceará",
         35
        ],
        [
         "23",
         1989,
         "Estados",
         "CE",
         "Ceará",
         46
        ],
        [
         "23",
         1990,
         "Estados",
         "CE",
         "Ceará",
         45
        ],
        [
         "23",
         1991,
         "Estados",
         "CE",
         "Ceará",
         53
        ],
        [
         "23",
         1992,
         "Estados",
         "CE",
         "Ceará",
         42
        ],
        [
         "23",
         1993,
         "Estados",
         "CE",
         "Ceará",
         62
        ],
        [
         "23",
         1994,
         "Estados",
         "CE",
         "Ceará",
         58
        ],
        [
         "23",
         1995,
         "Estados",
         "CE",
         "Ceará",
         54
        ],
        [
         "23",
         1996,
         "Estados",
         "CE",
         "Ceará",
         85
        ],
        [
         "23",
         1997,
         "Estados",
         "CE",
         "Ceará",
         84
        ],
        [
         "23",
         1998,
         "Estados",
         "CE",
         "Ceará",
         56
        ],
        [
         "23",
         1999,
         "Estados",
         "CE",
         "Ceará",
         93
        ],
        [
         "23",
         2000,
         "Estados",
         "CE",
         "Ceará",
         107
        ],
        [
         "23",
         2001,
         "Estados",
         "CE",
         "Ceará",
         115
        ]
       ],
       "datasetInfos": [],
       "dbfsResultPath": null,
       "isJsonSchema": true,
       "metadata": {},
       "overflow": false,
       "plotOptions": {
        "customPlotOptions": {},
        "displayType": "table",
        "pivotAggregation": null,
        "pivotColumns": null,
        "xColumns": null,
        "yColumns": null
       },
       "removedWidgets": [],
       "schema": [
        {
         "metadata": "{}",
         "name": "id",
         "type": "\"string\""
        },
        {
         "metadata": "{}",
         "name": "Ano",
         "type": "\"long\""
        },
        {
         "metadata": "{}",
         "name": "Territorio",
         "type": "\"string\""
        },
        {
         "metadata": "{}",
         "name": "sigla",
         "type": "\"string\""
        },
        {
         "metadata": "{}",
         "name": "nome",
         "type": "\"string\""
        },
        {
         "metadata": "{}",
         "name": "Quantidade_vitimas",
         "type": "\"long\""
        }
       ],
       "type": "table"
      }
     },
     "output_type": "display_data"
    }
   ],
   "source": [
    "%sql\n",
    "SELECT * FROM femicide_states WHERE nome == 'Ceará';"
   ]
  },
  {
   "cell_type": "code",
   "execution_count": 0,
   "metadata": {
    "application/vnd.databricks.v1+cell": {
     "cellMetadata": {
      "byteLimit": 2048000,
      "rowLimit": 10000
     },
     "inputWidgets": {},
     "nuid": "7f08f24e-6608-4d83-a2f2-e78b0c3c4061",
     "showTitle": false,
     "title": ""
    }
   },
   "outputs": [
    {
     "output_type": "display_data",
     "data": {
      "text/html": [
       "<style scoped>\n",
       "  .table-result-container {\n",
       "    max-height: 300px;\n",
       "    overflow: auto;\n",
       "  }\n",
       "  table, th, td {\n",
       "    border: 1px solid black;\n",
       "    border-collapse: collapse;\n",
       "  }\n",
       "  th, td {\n",
       "    padding: 5px;\n",
       "  }\n",
       "  th {\n",
       "    text-align: left;\n",
       "  }\n",
       "</style><div class='table-result-container'><table class='table-result'><thead style='background-color: white'><tr><th>id</th><th>Ano</th><th>Territorio</th><th>sigla</th><th>nome</th><th>Quantidade_vitimas</th></tr></thead><tbody><tr><td>23</td><td>2002</td><td>Estados</td><td>CE</td><td>Ceará</td><td>124</td></tr><tr><td>23</td><td>2003</td><td>Estados</td><td>CE</td><td>Ceará</td><td>111</td></tr><tr><td>23</td><td>2004</td><td>Estados</td><td>CE</td><td>Ceará</td><td>122</td></tr><tr><td>23</td><td>2005</td><td>Estados</td><td>CE</td><td>Ceará</td><td>145</td></tr><tr><td>23</td><td>2006</td><td>Estados</td><td>CE</td><td>Ceará</td><td>135</td></tr><tr><td>23</td><td>2007</td><td>Estados</td><td>CE</td><td>Ceará</td><td>131</td></tr><tr><td>23</td><td>2008</td><td>Estados</td><td>CE</td><td>Ceará</td><td>122</td></tr><tr><td>23</td><td>2009</td><td>Estados</td><td>CE</td><td>Ceará</td><td>144</td></tr><tr><td>23</td><td>2010</td><td>Estados</td><td>CE</td><td>Ceará</td><td>173</td></tr><tr><td>23</td><td>2011</td><td>Estados</td><td>CE</td><td>Ceará</td><td>189</td></tr><tr><td>23</td><td>2012</td><td>Estados</td><td>CE</td><td>Ceará</td><td>219</td></tr><tr><td>23</td><td>2013</td><td>Estados</td><td>CE</td><td>Ceará</td><td>278</td></tr><tr><td>23</td><td>2014</td><td>Estados</td><td>CE</td><td>Ceará</td><td>285</td></tr><tr><td>23</td><td>2015</td><td>Estados</td><td>CE</td><td>Ceará</td><td>254</td></tr><tr><td>23</td><td>2016</td><td>Estados</td><td>CE</td><td>Ceará</td><td>218</td></tr><tr><td>23</td><td>2017</td><td>Estados</td><td>CE</td><td>Ceará</td><td>374</td></tr><tr><td>23</td><td>2018</td><td>Estados</td><td>CE</td><td>Ceará</td><td>475</td></tr><tr><td>23</td><td>2019</td><td>Estados</td><td>CE</td><td>Ceará</td><td>221</td></tr><tr><td>23</td><td>2020</td><td>Estados</td><td>CE</td><td>Ceará</td><td>319</td></tr><tr><td>23</td><td>2021</td><td>Estados</td><td>CE</td><td>Ceará</td><td>352</td></tr><tr><td>23</td><td>2022</td><td>Estados</td><td>CE</td><td>Ceará</td><td>275</td></tr><tr><td>23</td><td>1980</td><td>Estados</td><td>CE</td><td>Ceará</td><td>31</td></tr><tr><td>23</td><td>1981</td><td>Estados</td><td>CE</td><td>Ceará</td><td>42</td></tr><tr><td>23</td><td>1982</td><td>Estados</td><td>CE</td><td>Ceará</td><td>39</td></tr><tr><td>23</td><td>1983</td><td>Estados</td><td>CE</td><td>Ceará</td><td>48</td></tr><tr><td>23</td><td>1984</td><td>Estados</td><td>CE</td><td>Ceará</td><td>40</td></tr><tr><td>23</td><td>1985</td><td>Estados</td><td>CE</td><td>Ceará</td><td>41</td></tr><tr><td>23</td><td>1986</td><td>Estados</td><td>CE</td><td>Ceará</td><td>53</td></tr><tr><td>23</td><td>1987</td><td>Estados</td><td>CE</td><td>Ceará</td><td>40</td></tr><tr><td>23</td><td>1988</td><td>Estados</td><td>CE</td><td>Ceará</td><td>35</td></tr><tr><td>23</td><td>1989</td><td>Estados</td><td>CE</td><td>Ceará</td><td>46</td></tr><tr><td>23</td><td>1990</td><td>Estados</td><td>CE</td><td>Ceará</td><td>45</td></tr><tr><td>23</td><td>1991</td><td>Estados</td><td>CE</td><td>Ceará</td><td>53</td></tr><tr><td>23</td><td>1992</td><td>Estados</td><td>CE</td><td>Ceará</td><td>42</td></tr><tr><td>23</td><td>1993</td><td>Estados</td><td>CE</td><td>Ceará</td><td>62</td></tr><tr><td>23</td><td>1994</td><td>Estados</td><td>CE</td><td>Ceará</td><td>58</td></tr><tr><td>23</td><td>1995</td><td>Estados</td><td>CE</td><td>Ceará</td><td>54</td></tr><tr><td>23</td><td>1996</td><td>Estados</td><td>CE</td><td>Ceará</td><td>85</td></tr><tr><td>23</td><td>1997</td><td>Estados</td><td>CE</td><td>Ceará</td><td>84</td></tr><tr><td>23</td><td>1998</td><td>Estados</td><td>CE</td><td>Ceará</td><td>56</td></tr><tr><td>23</td><td>1999</td><td>Estados</td><td>CE</td><td>Ceará</td><td>93</td></tr><tr><td>23</td><td>2000</td><td>Estados</td><td>CE</td><td>Ceará</td><td>107</td></tr><tr><td>23</td><td>2001</td><td>Estados</td><td>CE</td><td>Ceará</td><td>115</td></tr></tbody></table></div>"
      ]
     },
     "metadata": {
      "application/vnd.databricks.v1+output": {
       "addedWidgets": {},
       "aggData": [],
       "aggError": "",
       "aggOverflow": false,
       "aggSchema": [],
       "aggSeriesLimitReached": false,
       "aggType": "",
       "arguments": {},
       "columnCustomDisplayInfos": {},
       "data": [
        [
         "23",
         2002,
         "Estados",
         "CE",
         "Ceará",
         124
        ],
        [
         "23",
         2003,
         "Estados",
         "CE",
         "Ceará",
         111
        ],
        [
         "23",
         2004,
         "Estados",
         "CE",
         "Ceará",
         122
        ],
        [
         "23",
         2005,
         "Estados",
         "CE",
         "Ceará",
         145
        ],
        [
         "23",
         2006,
         "Estados",
         "CE",
         "Ceará",
         135
        ],
        [
         "23",
         2007,
         "Estados",
         "CE",
         "Ceará",
         131
        ],
        [
         "23",
         2008,
         "Estados",
         "CE",
         "Ceará",
         122
        ],
        [
         "23",
         2009,
         "Estados",
         "CE",
         "Ceará",
         144
        ],
        [
         "23",
         2010,
         "Estados",
         "CE",
         "Ceará",
         173
        ],
        [
         "23",
         2011,
         "Estados",
         "CE",
         "Ceará",
         189
        ],
        [
         "23",
         2012,
         "Estados",
         "CE",
         "Ceará",
         219
        ],
        [
         "23",
         2013,
         "Estados",
         "CE",
         "Ceará",
         278
        ],
        [
         "23",
         2014,
         "Estados",
         "CE",
         "Ceará",
         285
        ],
        [
         "23",
         2015,
         "Estados",
         "CE",
         "Ceará",
         254
        ],
        [
         "23",
         2016,
         "Estados",
         "CE",
         "Ceará",
         218
        ],
        [
         "23",
         2017,
         "Estados",
         "CE",
         "Ceará",
         374
        ],
        [
         "23",
         2018,
         "Estados",
         "CE",
         "Ceará",
         475
        ],
        [
         "23",
         2019,
         "Estados",
         "CE",
         "Ceará",
         221
        ],
        [
         "23",
         2020,
         "Estados",
         "CE",
         "Ceará",
         319
        ],
        [
         "23",
         2021,
         "Estados",
         "CE",
         "Ceará",
         352
        ],
        [
         "23",
         2022,
         "Estados",
         "CE",
         "Ceará",
         275
        ],
        [
         "23",
         1980,
         "Estados",
         "CE",
         "Ceará",
         31
        ],
        [
         "23",
         1981,
         "Estados",
         "CE",
         "Ceará",
         42
        ],
        [
         "23",
         1982,
         "Estados",
         "CE",
         "Ceará",
         39
        ],
        [
         "23",
         1983,
         "Estados",
         "CE",
         "Ceará",
         48
        ],
        [
         "23",
         1984,
         "Estados",
         "CE",
         "Ceará",
         40
        ],
        [
         "23",
         1985,
         "Estados",
         "CE",
         "Ceará",
         41
        ],
        [
         "23",
         1986,
         "Estados",
         "CE",
         "Ceará",
         53
        ],
        [
         "23",
         1987,
         "Estados",
         "CE",
         "Ceará",
         40
        ],
        [
         "23",
         1988,
         "Estados",
         "CE",
         "Ceará",
         35
        ],
        [
         "23",
         1989,
         "Estados",
         "CE",
         "Ceará",
         46
        ],
        [
         "23",
         1990,
         "Estados",
         "CE",
         "Ceará",
         45
        ],
        [
         "23",
         1991,
         "Estados",
         "CE",
         "Ceará",
         53
        ],
        [
         "23",
         1992,
         "Estados",
         "CE",
         "Ceará",
         42
        ],
        [
         "23",
         1993,
         "Estados",
         "CE",
         "Ceará",
         62
        ],
        [
         "23",
         1994,
         "Estados",
         "CE",
         "Ceará",
         58
        ],
        [
         "23",
         1995,
         "Estados",
         "CE",
         "Ceará",
         54
        ],
        [
         "23",
         1996,
         "Estados",
         "CE",
         "Ceará",
         85
        ],
        [
         "23",
         1997,
         "Estados",
         "CE",
         "Ceará",
         84
        ],
        [
         "23",
         1998,
         "Estados",
         "CE",
         "Ceará",
         56
        ],
        [
         "23",
         1999,
         "Estados",
         "CE",
         "Ceará",
         93
        ],
        [
         "23",
         2000,
         "Estados",
         "CE",
         "Ceará",
         107
        ],
        [
         "23",
         2001,
         "Estados",
         "CE",
         "Ceará",
         115
        ]
       ],
       "datasetInfos": [],
       "dbfsResultPath": null,
       "isJsonSchema": true,
       "metadata": {},
       "overflow": false,
       "plotOptions": {
        "customPlotOptions": {},
        "displayType": "table",
        "pivotAggregation": null,
        "pivotColumns": null,
        "xColumns": null,
        "yColumns": null
       },
       "removedWidgets": [],
       "schema": [
        {
         "metadata": "{}",
         "name": "id",
         "type": "\"string\""
        },
        {
         "metadata": "{}",
         "name": "Ano",
         "type": "\"long\""
        },
        {
         "metadata": "{}",
         "name": "Territorio",
         "type": "\"string\""
        },
        {
         "metadata": "{}",
         "name": "sigla",
         "type": "\"string\""
        },
        {
         "metadata": "{}",
         "name": "nome",
         "type": "\"string\""
        },
        {
         "metadata": "{}",
         "name": "Quantidade_vitimas",
         "type": "\"long\""
        }
       ],
       "type": "table"
      }
     },
     "output_type": "display_data"
    }
   ],
   "source": [
    "# Exibindo em um dataframe Spark\n",
    "ceara = _sqldf\n",
    "ceara.display()"
   ]
  },
  {
   "cell_type": "code",
   "execution_count": 0,
   "metadata": {
    "application/vnd.databricks.v1+cell": {
     "cellMetadata": {
      "byteLimit": 2048000,
      "rowLimit": 10000
     },
     "inputWidgets": {},
     "nuid": "5c0dd657-668e-4c03-860c-4e20d1bb3f9d",
     "showTitle": false,
     "title": ""
    }
   },
   "outputs": [
    {
     "output_type": "display_data",
     "data": {
      "text/html": [
       "<div>\n",
       "<style scoped>\n",
       "    .dataframe tbody tr th:only-of-type {\n",
       "        vertical-align: middle;\n",
       "    }\n",
       "\n",
       "    .dataframe tbody tr th {\n",
       "        vertical-align: top;\n",
       "    }\n",
       "\n",
       "    .dataframe thead th {\n",
       "        text-align: right;\n",
       "    }\n",
       "</style>\n",
       "<table border=\"1\" class=\"dataframe\">\n",
       "  <thead>\n",
       "    <tr style=\"text-align: right;\">\n",
       "      <th></th>\n",
       "      <th>id</th>\n",
       "      <th>Ano</th>\n",
       "      <th>Territorio</th>\n",
       "      <th>sigla</th>\n",
       "      <th>nome</th>\n",
       "      <th>Quantidade_vitimas</th>\n",
       "    </tr>\n",
       "  </thead>\n",
       "  <tbody>\n",
       "    <tr>\n",
       "      <th>0</th>\n",
       "      <td>23</td>\n",
       "      <td>2002</td>\n",
       "      <td>Estados</td>\n",
       "      <td>CE</td>\n",
       "      <td>Ceará</td>\n",
       "      <td>124</td>\n",
       "    </tr>\n",
       "    <tr>\n",
       "      <th>1</th>\n",
       "      <td>23</td>\n",
       "      <td>2003</td>\n",
       "      <td>Estados</td>\n",
       "      <td>CE</td>\n",
       "      <td>Ceará</td>\n",
       "      <td>111</td>\n",
       "    </tr>\n",
       "    <tr>\n",
       "      <th>2</th>\n",
       "      <td>23</td>\n",
       "      <td>2004</td>\n",
       "      <td>Estados</td>\n",
       "      <td>CE</td>\n",
       "      <td>Ceará</td>\n",
       "      <td>122</td>\n",
       "    </tr>\n",
       "    <tr>\n",
       "      <th>3</th>\n",
       "      <td>23</td>\n",
       "      <td>2005</td>\n",
       "      <td>Estados</td>\n",
       "      <td>CE</td>\n",
       "      <td>Ceará</td>\n",
       "      <td>145</td>\n",
       "    </tr>\n",
       "    <tr>\n",
       "      <th>4</th>\n",
       "      <td>23</td>\n",
       "      <td>2006</td>\n",
       "      <td>Estados</td>\n",
       "      <td>CE</td>\n",
       "      <td>Ceará</td>\n",
       "      <td>135</td>\n",
       "    </tr>\n",
       "    <tr>\n",
       "      <th>5</th>\n",
       "      <td>23</td>\n",
       "      <td>2007</td>\n",
       "      <td>Estados</td>\n",
       "      <td>CE</td>\n",
       "      <td>Ceará</td>\n",
       "      <td>131</td>\n",
       "    </tr>\n",
       "    <tr>\n",
       "      <th>6</th>\n",
       "      <td>23</td>\n",
       "      <td>2008</td>\n",
       "      <td>Estados</td>\n",
       "      <td>CE</td>\n",
       "      <td>Ceará</td>\n",
       "      <td>122</td>\n",
       "    </tr>\n",
       "    <tr>\n",
       "      <th>7</th>\n",
       "      <td>23</td>\n",
       "      <td>2009</td>\n",
       "      <td>Estados</td>\n",
       "      <td>CE</td>\n",
       "      <td>Ceará</td>\n",
       "      <td>144</td>\n",
       "    </tr>\n",
       "    <tr>\n",
       "      <th>8</th>\n",
       "      <td>23</td>\n",
       "      <td>2010</td>\n",
       "      <td>Estados</td>\n",
       "      <td>CE</td>\n",
       "      <td>Ceará</td>\n",
       "      <td>173</td>\n",
       "    </tr>\n",
       "    <tr>\n",
       "      <th>9</th>\n",
       "      <td>23</td>\n",
       "      <td>2011</td>\n",
       "      <td>Estados</td>\n",
       "      <td>CE</td>\n",
       "      <td>Ceará</td>\n",
       "      <td>189</td>\n",
       "    </tr>\n",
       "    <tr>\n",
       "      <th>10</th>\n",
       "      <td>23</td>\n",
       "      <td>2012</td>\n",
       "      <td>Estados</td>\n",
       "      <td>CE</td>\n",
       "      <td>Ceará</td>\n",
       "      <td>219</td>\n",
       "    </tr>\n",
       "    <tr>\n",
       "      <th>11</th>\n",
       "      <td>23</td>\n",
       "      <td>2013</td>\n",
       "      <td>Estados</td>\n",
       "      <td>CE</td>\n",
       "      <td>Ceará</td>\n",
       "      <td>278</td>\n",
       "    </tr>\n",
       "    <tr>\n",
       "      <th>12</th>\n",
       "      <td>23</td>\n",
       "      <td>2014</td>\n",
       "      <td>Estados</td>\n",
       "      <td>CE</td>\n",
       "      <td>Ceará</td>\n",
       "      <td>285</td>\n",
       "    </tr>\n",
       "    <tr>\n",
       "      <th>13</th>\n",
       "      <td>23</td>\n",
       "      <td>2015</td>\n",
       "      <td>Estados</td>\n",
       "      <td>CE</td>\n",
       "      <td>Ceará</td>\n",
       "      <td>254</td>\n",
       "    </tr>\n",
       "    <tr>\n",
       "      <th>14</th>\n",
       "      <td>23</td>\n",
       "      <td>2016</td>\n",
       "      <td>Estados</td>\n",
       "      <td>CE</td>\n",
       "      <td>Ceará</td>\n",
       "      <td>218</td>\n",
       "    </tr>\n",
       "    <tr>\n",
       "      <th>15</th>\n",
       "      <td>23</td>\n",
       "      <td>2017</td>\n",
       "      <td>Estados</td>\n",
       "      <td>CE</td>\n",
       "      <td>Ceará</td>\n",
       "      <td>374</td>\n",
       "    </tr>\n",
       "    <tr>\n",
       "      <th>16</th>\n",
       "      <td>23</td>\n",
       "      <td>2018</td>\n",
       "      <td>Estados</td>\n",
       "      <td>CE</td>\n",
       "      <td>Ceará</td>\n",
       "      <td>475</td>\n",
       "    </tr>\n",
       "    <tr>\n",
       "      <th>17</th>\n",
       "      <td>23</td>\n",
       "      <td>2019</td>\n",
       "      <td>Estados</td>\n",
       "      <td>CE</td>\n",
       "      <td>Ceará</td>\n",
       "      <td>221</td>\n",
       "    </tr>\n",
       "    <tr>\n",
       "      <th>18</th>\n",
       "      <td>23</td>\n",
       "      <td>2020</td>\n",
       "      <td>Estados</td>\n",
       "      <td>CE</td>\n",
       "      <td>Ceará</td>\n",
       "      <td>319</td>\n",
       "    </tr>\n",
       "    <tr>\n",
       "      <th>19</th>\n",
       "      <td>23</td>\n",
       "      <td>2021</td>\n",
       "      <td>Estados</td>\n",
       "      <td>CE</td>\n",
       "      <td>Ceará</td>\n",
       "      <td>352</td>\n",
       "    </tr>\n",
       "    <tr>\n",
       "      <th>20</th>\n",
       "      <td>23</td>\n",
       "      <td>2022</td>\n",
       "      <td>Estados</td>\n",
       "      <td>CE</td>\n",
       "      <td>Ceará</td>\n",
       "      <td>275</td>\n",
       "    </tr>\n",
       "    <tr>\n",
       "      <th>21</th>\n",
       "      <td>23</td>\n",
       "      <td>1980</td>\n",
       "      <td>Estados</td>\n",
       "      <td>CE</td>\n",
       "      <td>Ceará</td>\n",
       "      <td>31</td>\n",
       "    </tr>\n",
       "    <tr>\n",
       "      <th>22</th>\n",
       "      <td>23</td>\n",
       "      <td>1981</td>\n",
       "      <td>Estados</td>\n",
       "      <td>CE</td>\n",
       "      <td>Ceará</td>\n",
       "      <td>42</td>\n",
       "    </tr>\n",
       "    <tr>\n",
       "      <th>23</th>\n",
       "      <td>23</td>\n",
       "      <td>1982</td>\n",
       "      <td>Estados</td>\n",
       "      <td>CE</td>\n",
       "      <td>Ceará</td>\n",
       "      <td>39</td>\n",
       "    </tr>\n",
       "    <tr>\n",
       "      <th>24</th>\n",
       "      <td>23</td>\n",
       "      <td>1983</td>\n",
       "      <td>Estados</td>\n",
       "      <td>CE</td>\n",
       "      <td>Ceará</td>\n",
       "      <td>48</td>\n",
       "    </tr>\n",
       "    <tr>\n",
       "      <th>25</th>\n",
       "      <td>23</td>\n",
       "      <td>1984</td>\n",
       "      <td>Estados</td>\n",
       "      <td>CE</td>\n",
       "      <td>Ceará</td>\n",
       "      <td>40</td>\n",
       "    </tr>\n",
       "    <tr>\n",
       "      <th>26</th>\n",
       "      <td>23</td>\n",
       "      <td>1985</td>\n",
       "      <td>Estados</td>\n",
       "      <td>CE</td>\n",
       "      <td>Ceará</td>\n",
       "      <td>41</td>\n",
       "    </tr>\n",
       "    <tr>\n",
       "      <th>27</th>\n",
       "      <td>23</td>\n",
       "      <td>1986</td>\n",
       "      <td>Estados</td>\n",
       "      <td>CE</td>\n",
       "      <td>Ceará</td>\n",
       "      <td>53</td>\n",
       "    </tr>\n",
       "    <tr>\n",
       "      <th>28</th>\n",
       "      <td>23</td>\n",
       "      <td>1987</td>\n",
       "      <td>Estados</td>\n",
       "      <td>CE</td>\n",
       "      <td>Ceará</td>\n",
       "      <td>40</td>\n",
       "    </tr>\n",
       "    <tr>\n",
       "      <th>29</th>\n",
       "      <td>23</td>\n",
       "      <td>1988</td>\n",
       "      <td>Estados</td>\n",
       "      <td>CE</td>\n",
       "      <td>Ceará</td>\n",
       "      <td>35</td>\n",
       "    </tr>\n",
       "    <tr>\n",
       "      <th>30</th>\n",
       "      <td>23</td>\n",
       "      <td>1989</td>\n",
       "      <td>Estados</td>\n",
       "      <td>CE</td>\n",
       "      <td>Ceará</td>\n",
       "      <td>46</td>\n",
       "    </tr>\n",
       "    <tr>\n",
       "      <th>31</th>\n",
       "      <td>23</td>\n",
       "      <td>1990</td>\n",
       "      <td>Estados</td>\n",
       "      <td>CE</td>\n",
       "      <td>Ceará</td>\n",
       "      <td>45</td>\n",
       "    </tr>\n",
       "    <tr>\n",
       "      <th>32</th>\n",
       "      <td>23</td>\n",
       "      <td>1991</td>\n",
       "      <td>Estados</td>\n",
       "      <td>CE</td>\n",
       "      <td>Ceará</td>\n",
       "      <td>53</td>\n",
       "    </tr>\n",
       "    <tr>\n",
       "      <th>33</th>\n",
       "      <td>23</td>\n",
       "      <td>1992</td>\n",
       "      <td>Estados</td>\n",
       "      <td>CE</td>\n",
       "      <td>Ceará</td>\n",
       "      <td>42</td>\n",
       "    </tr>\n",
       "    <tr>\n",
       "      <th>34</th>\n",
       "      <td>23</td>\n",
       "      <td>1993</td>\n",
       "      <td>Estados</td>\n",
       "      <td>CE</td>\n",
       "      <td>Ceará</td>\n",
       "      <td>62</td>\n",
       "    </tr>\n",
       "    <tr>\n",
       "      <th>35</th>\n",
       "      <td>23</td>\n",
       "      <td>1994</td>\n",
       "      <td>Estados</td>\n",
       "      <td>CE</td>\n",
       "      <td>Ceará</td>\n",
       "      <td>58</td>\n",
       "    </tr>\n",
       "    <tr>\n",
       "      <th>36</th>\n",
       "      <td>23</td>\n",
       "      <td>1995</td>\n",
       "      <td>Estados</td>\n",
       "      <td>CE</td>\n",
       "      <td>Ceará</td>\n",
       "      <td>54</td>\n",
       "    </tr>\n",
       "    <tr>\n",
       "      <th>37</th>\n",
       "      <td>23</td>\n",
       "      <td>1996</td>\n",
       "      <td>Estados</td>\n",
       "      <td>CE</td>\n",
       "      <td>Ceará</td>\n",
       "      <td>85</td>\n",
       "    </tr>\n",
       "    <tr>\n",
       "      <th>38</th>\n",
       "      <td>23</td>\n",
       "      <td>1997</td>\n",
       "      <td>Estados</td>\n",
       "      <td>CE</td>\n",
       "      <td>Ceará</td>\n",
       "      <td>84</td>\n",
       "    </tr>\n",
       "    <tr>\n",
       "      <th>39</th>\n",
       "      <td>23</td>\n",
       "      <td>1998</td>\n",
       "      <td>Estados</td>\n",
       "      <td>CE</td>\n",
       "      <td>Ceará</td>\n",
       "      <td>56</td>\n",
       "    </tr>\n",
       "    <tr>\n",
       "      <th>40</th>\n",
       "      <td>23</td>\n",
       "      <td>1999</td>\n",
       "      <td>Estados</td>\n",
       "      <td>CE</td>\n",
       "      <td>Ceará</td>\n",
       "      <td>93</td>\n",
       "    </tr>\n",
       "    <tr>\n",
       "      <th>41</th>\n",
       "      <td>23</td>\n",
       "      <td>2000</td>\n",
       "      <td>Estados</td>\n",
       "      <td>CE</td>\n",
       "      <td>Ceará</td>\n",
       "      <td>107</td>\n",
       "    </tr>\n",
       "    <tr>\n",
       "      <th>42</th>\n",
       "      <td>23</td>\n",
       "      <td>2001</td>\n",
       "      <td>Estados</td>\n",
       "      <td>CE</td>\n",
       "      <td>Ceará</td>\n",
       "      <td>115</td>\n",
       "    </tr>\n",
       "  </tbody>\n",
       "</table>\n",
       "</div>"
      ]
     },
     "metadata": {
      "application/vnd.databricks.v1+output": {
       "addedWidgets": {},
       "arguments": {},
       "data": "<div>\n<style scoped>\n    .dataframe tbody tr th:only-of-type {\n        vertical-align: middle;\n    }\n\n    .dataframe tbody tr th {\n        vertical-align: top;\n    }\n\n    .dataframe thead th {\n        text-align: right;\n    }\n</style>\n<table border=\"1\" class=\"dataframe\">\n  <thead>\n    <tr style=\"text-align: right;\">\n      <th></th>\n      <th>id</th>\n      <th>Ano</th>\n      <th>Territorio</th>\n      <th>sigla</th>\n      <th>nome</th>\n      <th>Quantidade_vitimas</th>\n    </tr>\n  </thead>\n  <tbody>\n    <tr>\n      <th>0</th>\n      <td>23</td>\n      <td>2002</td>\n      <td>Estados</td>\n      <td>CE</td>\n      <td>Ceará</td>\n      <td>124</td>\n    </tr>\n    <tr>\n      <th>1</th>\n      <td>23</td>\n      <td>2003</td>\n      <td>Estados</td>\n      <td>CE</td>\n      <td>Ceará</td>\n      <td>111</td>\n    </tr>\n    <tr>\n      <th>2</th>\n      <td>23</td>\n      <td>2004</td>\n      <td>Estados</td>\n      <td>CE</td>\n      <td>Ceará</td>\n      <td>122</td>\n    </tr>\n    <tr>\n      <th>3</th>\n      <td>23</td>\n      <td>2005</td>\n      <td>Estados</td>\n      <td>CE</td>\n      <td>Ceará</td>\n      <td>145</td>\n    </tr>\n    <tr>\n      <th>4</th>\n      <td>23</td>\n      <td>2006</td>\n      <td>Estados</td>\n      <td>CE</td>\n      <td>Ceará</td>\n      <td>135</td>\n    </tr>\n    <tr>\n      <th>5</th>\n      <td>23</td>\n      <td>2007</td>\n      <td>Estados</td>\n      <td>CE</td>\n      <td>Ceará</td>\n      <td>131</td>\n    </tr>\n    <tr>\n      <th>6</th>\n      <td>23</td>\n      <td>2008</td>\n      <td>Estados</td>\n      <td>CE</td>\n      <td>Ceará</td>\n      <td>122</td>\n    </tr>\n    <tr>\n      <th>7</th>\n      <td>23</td>\n      <td>2009</td>\n      <td>Estados</td>\n      <td>CE</td>\n      <td>Ceará</td>\n      <td>144</td>\n    </tr>\n    <tr>\n      <th>8</th>\n      <td>23</td>\n      <td>2010</td>\n      <td>Estados</td>\n      <td>CE</td>\n      <td>Ceará</td>\n      <td>173</td>\n    </tr>\n    <tr>\n      <th>9</th>\n      <td>23</td>\n      <td>2011</td>\n      <td>Estados</td>\n      <td>CE</td>\n      <td>Ceará</td>\n      <td>189</td>\n    </tr>\n    <tr>\n      <th>10</th>\n      <td>23</td>\n      <td>2012</td>\n      <td>Estados</td>\n      <td>CE</td>\n      <td>Ceará</td>\n      <td>219</td>\n    </tr>\n    <tr>\n      <th>11</th>\n      <td>23</td>\n      <td>2013</td>\n      <td>Estados</td>\n      <td>CE</td>\n      <td>Ceará</td>\n      <td>278</td>\n    </tr>\n    <tr>\n      <th>12</th>\n      <td>23</td>\n      <td>2014</td>\n      <td>Estados</td>\n      <td>CE</td>\n      <td>Ceará</td>\n      <td>285</td>\n    </tr>\n    <tr>\n      <th>13</th>\n      <td>23</td>\n      <td>2015</td>\n      <td>Estados</td>\n      <td>CE</td>\n      <td>Ceará</td>\n      <td>254</td>\n    </tr>\n    <tr>\n      <th>14</th>\n      <td>23</td>\n      <td>2016</td>\n      <td>Estados</td>\n      <td>CE</td>\n      <td>Ceará</td>\n      <td>218</td>\n    </tr>\n    <tr>\n      <th>15</th>\n      <td>23</td>\n      <td>2017</td>\n      <td>Estados</td>\n      <td>CE</td>\n      <td>Ceará</td>\n      <td>374</td>\n    </tr>\n    <tr>\n      <th>16</th>\n      <td>23</td>\n      <td>2018</td>\n      <td>Estados</td>\n      <td>CE</td>\n      <td>Ceará</td>\n      <td>475</td>\n    </tr>\n    <tr>\n      <th>17</th>\n      <td>23</td>\n      <td>2019</td>\n      <td>Estados</td>\n      <td>CE</td>\n      <td>Ceará</td>\n      <td>221</td>\n    </tr>\n    <tr>\n      <th>18</th>\n      <td>23</td>\n      <td>2020</td>\n      <td>Estados</td>\n      <td>CE</td>\n      <td>Ceará</td>\n      <td>319</td>\n    </tr>\n    <tr>\n      <th>19</th>\n      <td>23</td>\n      <td>2021</td>\n      <td>Estados</td>\n      <td>CE</td>\n      <td>Ceará</td>\n      <td>352</td>\n    </tr>\n    <tr>\n      <th>20</th>\n      <td>23</td>\n      <td>2022</td>\n      <td>Estados</td>\n      <td>CE</td>\n      <td>Ceará</td>\n      <td>275</td>\n    </tr>\n    <tr>\n      <th>21</th>\n      <td>23</td>\n      <td>1980</td>\n      <td>Estados</td>\n      <td>CE</td>\n      <td>Ceará</td>\n      <td>31</td>\n    </tr>\n    <tr>\n      <th>22</th>\n      <td>23</td>\n      <td>1981</td>\n      <td>Estados</td>\n      <td>CE</td>\n      <td>Ceará</td>\n      <td>42</td>\n    </tr>\n    <tr>\n      <th>23</th>\n      <td>23</td>\n      <td>1982</td>\n      <td>Estados</td>\n      <td>CE</td>\n      <td>Ceará</td>\n      <td>39</td>\n    </tr>\n    <tr>\n      <th>24</th>\n      <td>23</td>\n      <td>1983</td>\n      <td>Estados</td>\n      <td>CE</td>\n      <td>Ceará</td>\n      <td>48</td>\n    </tr>\n    <tr>\n      <th>25</th>\n      <td>23</td>\n      <td>1984</td>\n      <td>Estados</td>\n      <td>CE</td>\n      <td>Ceará</td>\n      <td>40</td>\n    </tr>\n    <tr>\n      <th>26</th>\n      <td>23</td>\n      <td>1985</td>\n      <td>Estados</td>\n      <td>CE</td>\n      <td>Ceará</td>\n      <td>41</td>\n    </tr>\n    <tr>\n      <th>27</th>\n      <td>23</td>\n      <td>1986</td>\n      <td>Estados</td>\n      <td>CE</td>\n      <td>Ceará</td>\n      <td>53</td>\n    </tr>\n    <tr>\n      <th>28</th>\n      <td>23</td>\n      <td>1987</td>\n      <td>Estados</td>\n      <td>CE</td>\n      <td>Ceará</td>\n      <td>40</td>\n    </tr>\n    <tr>\n      <th>29</th>\n      <td>23</td>\n      <td>1988</td>\n      <td>Estados</td>\n      <td>CE</td>\n      <td>Ceará</td>\n      <td>35</td>\n    </tr>\n    <tr>\n      <th>30</th>\n      <td>23</td>\n      <td>1989</td>\n      <td>Estados</td>\n      <td>CE</td>\n      <td>Ceará</td>\n      <td>46</td>\n    </tr>\n    <tr>\n      <th>31</th>\n      <td>23</td>\n      <td>1990</td>\n      <td>Estados</td>\n      <td>CE</td>\n      <td>Ceará</td>\n      <td>45</td>\n    </tr>\n    <tr>\n      <th>32</th>\n      <td>23</td>\n      <td>1991</td>\n      <td>Estados</td>\n      <td>CE</td>\n      <td>Ceará</td>\n      <td>53</td>\n    </tr>\n    <tr>\n      <th>33</th>\n      <td>23</td>\n      <td>1992</td>\n      <td>Estados</td>\n      <td>CE</td>\n      <td>Ceará</td>\n      <td>42</td>\n    </tr>\n    <tr>\n      <th>34</th>\n      <td>23</td>\n      <td>1993</td>\n      <td>Estados</td>\n      <td>CE</td>\n      <td>Ceará</td>\n      <td>62</td>\n    </tr>\n    <tr>\n      <th>35</th>\n      <td>23</td>\n      <td>1994</td>\n      <td>Estados</td>\n      <td>CE</td>\n      <td>Ceará</td>\n      <td>58</td>\n    </tr>\n    <tr>\n      <th>36</th>\n      <td>23</td>\n      <td>1995</td>\n      <td>Estados</td>\n      <td>CE</td>\n      <td>Ceará</td>\n      <td>54</td>\n    </tr>\n    <tr>\n      <th>37</th>\n      <td>23</td>\n      <td>1996</td>\n      <td>Estados</td>\n      <td>CE</td>\n      <td>Ceará</td>\n      <td>85</td>\n    </tr>\n    <tr>\n      <th>38</th>\n      <td>23</td>\n      <td>1997</td>\n      <td>Estados</td>\n      <td>CE</td>\n      <td>Ceará</td>\n      <td>84</td>\n    </tr>\n    <tr>\n      <th>39</th>\n      <td>23</td>\n      <td>1998</td>\n      <td>Estados</td>\n      <td>CE</td>\n      <td>Ceará</td>\n      <td>56</td>\n    </tr>\n    <tr>\n      <th>40</th>\n      <td>23</td>\n      <td>1999</td>\n      <td>Estados</td>\n      <td>CE</td>\n      <td>Ceará</td>\n      <td>93</td>\n    </tr>\n    <tr>\n      <th>41</th>\n      <td>23</td>\n      <td>2000</td>\n      <td>Estados</td>\n      <td>CE</td>\n      <td>Ceará</td>\n      <td>107</td>\n    </tr>\n    <tr>\n      <th>42</th>\n      <td>23</td>\n      <td>2001</td>\n      <td>Estados</td>\n      <td>CE</td>\n      <td>Ceará</td>\n      <td>115</td>\n    </tr>\n  </tbody>\n</table>\n</div>",
       "datasetInfos": [],
       "metadata": {},
       "removedWidgets": [],
       "textData": null,
       "type": "htmlSandbox"
      }
     },
     "output_type": "display_data"
    }
   ],
   "source": [
    "# Convertendo em um dataframe pandas para poder plotar o gráfico\n",
    "df_ceara = ceara.toPandas()\n",
    "df_ceara"
   ]
  },
  {
   "cell_type": "code",
   "execution_count": 0,
   "metadata": {
    "application/vnd.databricks.v1+cell": {
     "cellMetadata": {
      "byteLimit": 2048000,
      "rowLimit": 10000
     },
     "inputWidgets": {},
     "nuid": "665f575b-a9b7-4261-b0aa-bab40cf6ac88",
     "showTitle": false,
     "title": ""
    }
   },
   "outputs": [
    {
     "output_type": "display_data",
     "data": {
      "image/png": "[encoded data removed]"
     },
     "metadata": {
      "application/vnd.databricks.v1+output": {
       "addedWidgets": {},
       "arguments": {},
       "data": "data:image/png;base64,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\n",
       "datasetInfos": [],
       "metadata": {},
       "removedWidgets": [],
       "type": "image"
      }
     },
     "output_type": "display_data"
    }
   ],
   "source": [
    "\n",
    "import matplotlib.pyplot as plt \n",
    "\n",
    "plt.figure(figsize=(10, 6))\n",
    "plt.bar(df_ceara['Ano'], df_ceara['Quantidade_vitimas'], color='blue')\n",
    "\n",
    "# Rotulos\n",
    "plt.xlabel('Ano')\n",
    "plt.ylabel('Quantidade_Vitimas')\n",
    "plt.title('Número de homicídios do Sexo Feminino no Estado do Ceará')\n",
    "\n",
    "plt.show()"
   ]
  },
  {
   "cell_type": "code",
   "execution_count": 0,
   "metadata": {
    "application/vnd.databricks.v1+cell": {
     "cellMetadata": {
      "byteLimit": 2048000,
      "rowLimit": 10000
     },
     "inputWidgets": {},
     "nuid": "8c0b55eb-b82c-4aca-91dd-662cd0a38eb5",
     "showTitle": false,
     "title": ""
    }
   },
   "outputs": [],
   "source": [
    "descricao = df_ceara.describe().reset_index()"
   ]
  },
  {
   "cell_type": "code",
   "execution_count": 0,
   "metadata": {
    "application/vnd.databricks.v1+cell": {
     "cellMetadata": {
      "byteLimit": 2048000,
      "rowLimit": 10000
     },
     "inputWidgets": {},
     "nuid": "834cb365-f381-4e6a-9696-9d21fdc0983c",
     "showTitle": false,
     "title": ""
    }
   },
   "outputs": [
    {
     "output_type": "display_data",
     "data": {
      "text/html": [
       "<div>\n",
       "<style scoped>\n",
       "    .dataframe tbody tr th:only-of-type {\n",
       "        vertical-align: middle;\n",
       "    }\n",
       "\n",
       "    .dataframe tbody tr th {\n",
       "        vertical-align: top;\n",
       "    }\n",
       "\n",
       "    .dataframe thead th {\n",
       "        text-align: right;\n",
       "    }\n",
       "</style>\n",
       "<table border=\"1\" class=\"dataframe\">\n",
       "  <thead>\n",
       "    <tr style=\"text-align: right;\">\n",
       "      <th></th>\n",
       "      <th>index</th>\n",
       "      <th>Ano</th>\n",
       "      <th>Quantidade_vitimas</th>\n",
       "    </tr>\n",
       "  </thead>\n",
       "  <tbody>\n",
       "    <tr>\n",
       "      <th>0</th>\n",
       "      <td>count</td>\n",
       "      <td>43.000000</td>\n",
       "      <td>43.000000</td>\n",
       "    </tr>\n",
       "    <tr>\n",
       "      <th>1</th>\n",
       "      <td>mean</td>\n",
       "      <td>2001.000000</td>\n",
       "      <td>138.023256</td>\n",
       "    </tr>\n",
       "    <tr>\n",
       "      <th>2</th>\n",
       "      <td>std</td>\n",
       "      <td>12.556539</td>\n",
       "      <td>109.139380</td>\n",
       "    </tr>\n",
       "    <tr>\n",
       "      <th>3</th>\n",
       "      <td>min</td>\n",
       "      <td>1980.000000</td>\n",
       "      <td>31.000000</td>\n",
       "    </tr>\n",
       "    <tr>\n",
       "      <th>4</th>\n",
       "      <td>25%</td>\n",
       "      <td>1990.500000</td>\n",
       "      <td>50.500000</td>\n",
       "    </tr>\n",
       "    <tr>\n",
       "      <th>5</th>\n",
       "      <td>50%</td>\n",
       "      <td>2001.000000</td>\n",
       "      <td>111.000000</td>\n",
       "    </tr>\n",
       "    <tr>\n",
       "      <th>6</th>\n",
       "      <td>75%</td>\n",
       "      <td>2011.500000</td>\n",
       "      <td>203.500000</td>\n",
       "    </tr>\n",
       "    <tr>\n",
       "      <th>7</th>\n",
       "      <td>max</td>\n",
       "      <td>2022.000000</td>\n",
       "      <td>475.000000</td>\n",
       "    </tr>\n",
       "  </tbody>\n",
       "</table>\n",
       "</div>"
      ]
     },
     "metadata": {
      "application/vnd.databricks.v1+output": {
       "addedWidgets": {},
       "arguments": {},
       "data": "<div>\n<style scoped>\n    .dataframe tbody tr th:only-of-type {\n        vertical-align: middle;\n    }\n\n    .dataframe tbody tr th {\n        vertical-align: top;\n    }\n\n    .dataframe thead th {\n        text-align: right;\n    }\n</style>\n<table border=\"1\" class=\"dataframe\">\n  <thead>\n    <tr style=\"text-align: right;\">\n      <th></th>\n      <th>index</th>\n      <th>Ano</th>\n      <th>Quantidade_vitimas</th>\n    </tr>\n  </thead>\n  <tbody>\n    <tr>\n      <th>0</th>\n      <td>count</td>\n      <td>43.000000</td>\n      <td>43.000000</td>\n    </tr>\n    <tr>\n      <th>1</th>\n      <td>mean</td>\n      <td>2001.000000</td>\n      <td>138.023256</td>\n    </tr>\n    <tr>\n      <th>2</th>\n      <td>std</td>\n      <td>12.556539</td>\n      <td>109.139380</td>\n    </tr>\n    <tr>\n      <th>3</th>\n      <td>min</td>\n      <td>1980.000000</td>\n      <td>31.000000</td>\n    </tr>\n    <tr>\n      <th>4</th>\n      <td>25%</td>\n      <td>1990.500000</td>\n      <td>50.500000</td>\n    </tr>\n    <tr>\n      <th>5</th>\n      <td>50%</td>\n      <td>2001.000000</td>\n      <td>111.000000</td>\n    </tr>\n    <tr>\n      <th>6</th>\n      <td>75%</td>\n      <td>2011.500000</td>\n      <td>203.500000</td>\n    </tr>\n    <tr>\n      <th>7</th>\n      <td>max</td>\n      <td>2022.000000</td>\n      <td>475.000000</td>\n    </tr>\n  </tbody>\n</table>\n</div>",
       "datasetInfos": [],
       "metadata": {},
       "removedWidgets": [],
       "textData": null,
       "type": "htmlSandbox"
      }
     },
     "output_type": "display_data"
    }
   ],
   "source": [
    "descricao"
   ]
  },
  {
   "cell_type": "markdown",
   "metadata": {
    "application/vnd.databricks.v1+cell": {
     "cellMetadata": {},
     "inputWidgets": {},
     "nuid": "28b9963e-d697-4bfb-a423-6320999b989f",
     "showTitle": false,
     "title": ""
    }
   },
   "source": []
  }
 ],
 "metadata": {
  "application/vnd.databricks.v1+notebook": {
   "dashboards": [],
   "environmentMetadata": null,
   "language": "python",
   "notebookMetadata": {
    "mostRecentlyExecutedCommandWithImplicitDF": {
     "commandId": 2071348316909584,
     "dataframes": [
      "_sqldf"
     ]
    },
    "pythonIndentUnit": 4
   },
   "notebookName": "projeto_extracao_dados",
   "widgets": {}
  }
 },
 "nbformat": 4,
 "nbformat_minor": 0
}
