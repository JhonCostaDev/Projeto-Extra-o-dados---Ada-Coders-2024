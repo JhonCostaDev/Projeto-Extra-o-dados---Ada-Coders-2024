{
 "cells": [
  {
   "cell_type": "code",
   "execution_count": 7,
   "metadata": {},
   "outputs": [
    {
     "data": {
      "text/plain": [
       "<Response [200]>"
      ]
     },
     "execution_count": 7,
     "metadata": {},
     "output_type": "execute_result"
    }
   ],
   "source": [
    "import requests \n",
    "\n",
    "url = 'https://api.nasa.gov/planetary/earth/assets?lon=-95.33&lat=29.78&date=2018-01-01&&dim=0.10&api_key=CyvPwekuY8bSxcO5pobazpWRBLZ0YU6YXnxN2eiQ'\n",
    "\n",
    "response = requests.get(url=url)\n",
    "response"
   ]
  },
  {
   "cell_type": "markdown",
   "metadata": {},
   "source": [
    "-3.798284964882196, -38.61314128212529"
   ]
  },
  {
   "cell_type": "code",
   "execution_count": 8,
   "metadata": {},
   "outputs": [
    {
     "data": {
      "text/plain": [
       "{'date': '2018-01-03T16:50:46.894000',\n",
       " 'id': 'LANDSAT/LC08/C02/T1_L2/LC08_025039_20180103',\n",
       " 'resource': {'dataset': 'LANDSAT/LC08/C02/T1_L2', 'planet': 'earth'},\n",
       " 'service_version': 'v5000',\n",
       " 'url': 'https://earthengine.googleapis.com/v1alpha/projects/earthengine-legacy/thumbnails/d9486c81e618b1f50fb49c789e91b9f6-4f52efe099731d905559b6b5ada033fa:getPixels'}"
      ]
     },
     "execution_count": 8,
     "metadata": {},
     "output_type": "execute_result"
    }
   ],
   "source": [
    "response.json()"
   ]
  },
  {
   "cell_type": "code",
   "execution_count": null,
   "metadata": {},
   "outputs": [],
   "source": []
  }
 ],
 "metadata": {
  "kernelspec": {
   "display_name": ".venv",
   "language": "python",
   "name": "python3"
  },
  "language_info": {
   "codemirror_mode": {
    "name": "ipython",
    "version": 3
   },
   "file_extension": ".py",
   "mimetype": "text/x-python",
   "name": "python",
   "nbconvert_exporter": "python",
   "pygments_lexer": "ipython3",
   "version": "3.12.3"
  }
 },
 "nbformat": 4,
 "nbformat_minor": 2
}
